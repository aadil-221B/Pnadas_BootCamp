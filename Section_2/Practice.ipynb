{
 "cells": [
  {
   "cell_type": "code",
   "execution_count": 2,
   "id": "cae5cb9d-adba-4430-8a2e-c34a6112adda",
   "metadata": {},
   "outputs": [],
   "source": [
    "import pandas as pd"
   ]
  },
  {
   "cell_type": "markdown",
   "id": "9d65066d-650b-473f-ae73-1c9179f876f6",
   "metadata": {},
   "source": [
    "## Reading CSV Data"
   ]
  },
  {
   "cell_type": "code",
   "execution_count": 3,
   "id": "e6996335-b6fc-4417-a1bc-242056e1f062",
   "metadata": {},
   "outputs": [],
   "source": [
    "# https://andybek.com/pandas-drinks  link to csv"
   ]
  },
  {
   "cell_type": "code",
   "execution_count": 4,
   "id": "eaf5d8cb-b346-46ff-b953-ed6620414c59",
   "metadata": {},
   "outputs": [
    {
     "data": {
      "text/html": [
       "<div>\n",
       "<style scoped>\n",
       "    .dataframe tbody tr th:only-of-type {\n",
       "        vertical-align: middle;\n",
       "    }\n",
       "\n",
       "    .dataframe tbody tr th {\n",
       "        vertical-align: top;\n",
       "    }\n",
       "\n",
       "    .dataframe thead th {\n",
       "        text-align: right;\n",
       "    }\n",
       "</style>\n",
       "<table border=\"1\" class=\"dataframe\">\n",
       "  <thead>\n",
       "    <tr style=\"text-align: right;\">\n",
       "      <th></th>\n",
       "      <th>country</th>\n",
       "      <th>beer_servings</th>\n",
       "      <th>spirit_servings</th>\n",
       "      <th>wine_servings</th>\n",
       "      <th>total_litres_of_pure_alcohol</th>\n",
       "    </tr>\n",
       "  </thead>\n",
       "  <tbody>\n",
       "    <tr>\n",
       "      <th>0</th>\n",
       "      <td>Afghanistan</td>\n",
       "      <td>NaN</td>\n",
       "      <td>NaN</td>\n",
       "      <td>NaN</td>\n",
       "      <td>NaN</td>\n",
       "    </tr>\n",
       "    <tr>\n",
       "      <th>1</th>\n",
       "      <td>Albania</td>\n",
       "      <td>89.0</td>\n",
       "      <td>132.0</td>\n",
       "      <td>54.0</td>\n",
       "      <td>4.9</td>\n",
       "    </tr>\n",
       "    <tr>\n",
       "      <th>2</th>\n",
       "      <td>Algeria</td>\n",
       "      <td>25.0</td>\n",
       "      <td>NaN</td>\n",
       "      <td>14.0</td>\n",
       "      <td>0.7</td>\n",
       "    </tr>\n",
       "    <tr>\n",
       "      <th>3</th>\n",
       "      <td>Andorra</td>\n",
       "      <td>245.0</td>\n",
       "      <td>138.0</td>\n",
       "      <td>312.0</td>\n",
       "      <td>12.4</td>\n",
       "    </tr>\n",
       "    <tr>\n",
       "      <th>4</th>\n",
       "      <td>Angola</td>\n",
       "      <td>217.0</td>\n",
       "      <td>57.0</td>\n",
       "      <td>45.0</td>\n",
       "      <td>5.9</td>\n",
       "    </tr>\n",
       "    <tr>\n",
       "      <th>...</th>\n",
       "      <td>...</td>\n",
       "      <td>...</td>\n",
       "      <td>...</td>\n",
       "      <td>...</td>\n",
       "      <td>...</td>\n",
       "    </tr>\n",
       "    <tr>\n",
       "      <th>188</th>\n",
       "      <td>Venezuela</td>\n",
       "      <td>333.0</td>\n",
       "      <td>1.0</td>\n",
       "      <td>3.0</td>\n",
       "      <td>7.7</td>\n",
       "    </tr>\n",
       "    <tr>\n",
       "      <th>189</th>\n",
       "      <td>Vietnam</td>\n",
       "      <td>111.0</td>\n",
       "      <td>2.0</td>\n",
       "      <td>1.0</td>\n",
       "      <td>2.0</td>\n",
       "    </tr>\n",
       "    <tr>\n",
       "      <th>190</th>\n",
       "      <td>Yemen</td>\n",
       "      <td>6.0</td>\n",
       "      <td>NaN</td>\n",
       "      <td>NaN</td>\n",
       "      <td>0.1</td>\n",
       "    </tr>\n",
       "    <tr>\n",
       "      <th>191</th>\n",
       "      <td>Zambia</td>\n",
       "      <td>32.0</td>\n",
       "      <td>19.0</td>\n",
       "      <td>4.0</td>\n",
       "      <td>2.5</td>\n",
       "    </tr>\n",
       "    <tr>\n",
       "      <th>192</th>\n",
       "      <td>Zimbabwe</td>\n",
       "      <td>64.0</td>\n",
       "      <td>18.0</td>\n",
       "      <td>4.0</td>\n",
       "      <td>4.7</td>\n",
       "    </tr>\n",
       "  </tbody>\n",
       "</table>\n",
       "<p>193 rows × 5 columns</p>\n",
       "</div>"
      ],
      "text/plain": [
       "         country  beer_servings  spirit_servings  wine_servings  \\\n",
       "0    Afghanistan            NaN              NaN            NaN   \n",
       "1        Albania           89.0            132.0           54.0   \n",
       "2        Algeria           25.0              NaN           14.0   \n",
       "3        Andorra          245.0            138.0          312.0   \n",
       "4         Angola          217.0             57.0           45.0   \n",
       "..           ...            ...              ...            ...   \n",
       "188    Venezuela          333.0              1.0            3.0   \n",
       "189      Vietnam          111.0              2.0            1.0   \n",
       "190        Yemen            6.0              NaN            NaN   \n",
       "191       Zambia           32.0             19.0            4.0   \n",
       "192     Zimbabwe           64.0             18.0            4.0   \n",
       "\n",
       "     total_litres_of_pure_alcohol  \n",
       "0                             NaN  \n",
       "1                             4.9  \n",
       "2                             0.7  \n",
       "3                            12.4  \n",
       "4                             5.9  \n",
       "..                            ...  \n",
       "188                           7.7  \n",
       "189                           2.0  \n",
       "190                           0.1  \n",
       "191                           2.5  \n",
       "192                           4.7  \n",
       "\n",
       "[193 rows x 5 columns]"
      ]
     },
     "execution_count": 4,
     "metadata": {},
     "output_type": "execute_result"
    }
   ],
   "source": [
    "pd.read_csv(\"https://andybek.com/pandas-drinks\")"
   ]
  },
  {
   "cell_type": "code",
   "execution_count": 8,
   "id": "ee8b544a-6e6f-4542-bfeb-b2ae6b6f8a2c",
   "metadata": {},
   "outputs": [],
   "source": [
    "alcohol = pd.read_csv(\"https://andybek.com/pandas-drinks\", usecols=[\"country\", \"wine_servings\"],index_col=[\"country\"])"
   ]
  },
  {
   "cell_type": "code",
   "execution_count": 9,
   "id": "745456c0-70fc-419b-9d26-9e282de0b57e",
   "metadata": {},
   "outputs": [
    {
     "data": {
      "text/html": [
       "<div>\n",
       "<style scoped>\n",
       "    .dataframe tbody tr th:only-of-type {\n",
       "        vertical-align: middle;\n",
       "    }\n",
       "\n",
       "    .dataframe tbody tr th {\n",
       "        vertical-align: top;\n",
       "    }\n",
       "\n",
       "    .dataframe thead th {\n",
       "        text-align: right;\n",
       "    }\n",
       "</style>\n",
       "<table border=\"1\" class=\"dataframe\">\n",
       "  <thead>\n",
       "    <tr style=\"text-align: right;\">\n",
       "      <th></th>\n",
       "      <th>wine_servings</th>\n",
       "    </tr>\n",
       "    <tr>\n",
       "      <th>country</th>\n",
       "      <th></th>\n",
       "    </tr>\n",
       "  </thead>\n",
       "  <tbody>\n",
       "    <tr>\n",
       "      <th>Afghanistan</th>\n",
       "      <td>NaN</td>\n",
       "    </tr>\n",
       "    <tr>\n",
       "      <th>Albania</th>\n",
       "      <td>54.0</td>\n",
       "    </tr>\n",
       "    <tr>\n",
       "      <th>Algeria</th>\n",
       "      <td>14.0</td>\n",
       "    </tr>\n",
       "    <tr>\n",
       "      <th>Andorra</th>\n",
       "      <td>312.0</td>\n",
       "    </tr>\n",
       "    <tr>\n",
       "      <th>Angola</th>\n",
       "      <td>45.0</td>\n",
       "    </tr>\n",
       "  </tbody>\n",
       "</table>\n",
       "</div>"
      ],
      "text/plain": [
       "             wine_servings\n",
       "country                   \n",
       "Afghanistan            NaN\n",
       "Albania               54.0\n",
       "Algeria               14.0\n",
       "Andorra              312.0\n",
       "Angola                45.0"
      ]
     },
     "execution_count": 9,
     "metadata": {},
     "output_type": "execute_result"
    }
   ],
   "source": [
    "alcohol.head()"
   ]
  },
  {
   "cell_type": "code",
   "execution_count": 10,
   "id": "d361064a-7141-4608-a8ff-183ee9f5bf5d",
   "metadata": {},
   "outputs": [],
   "source": [
    "# if we have only one field and an index we can make it as a series using .squeeze()"
   ]
  },
  {
   "cell_type": "code",
   "execution_count": 15,
   "id": "89df32a5-b93b-4af5-a09a-a0488a9d95a7",
   "metadata": {},
   "outputs": [
    {
     "data": {
      "text/plain": [
       "0        NaN\n",
       "1       54.0\n",
       "2       14.0\n",
       "3      312.0\n",
       "4       45.0\n",
       "       ...  \n",
       "188      3.0\n",
       "189      1.0\n",
       "190      NaN\n",
       "191      4.0\n",
       "192      4.0\n",
       "Name: wine_servings, Length: 193, dtype: float64"
      ]
     },
     "execution_count": 15,
     "metadata": {},
     "output_type": "execute_result"
    }
   ],
   "source": [
    "pd.read_csv(\"https://andybek.com/pandas-drinks\", usecols=[\"wine_servings\"]).squeeze()"
   ]
  },
  {
   "cell_type": "code",
   "execution_count": 19,
   "id": "90f8a7ef-198a-4bab-ad80-bf9178c03ba1",
   "metadata": {},
   "outputs": [],
   "source": [
    "alc_series = pd.read_csv(\"https://andybek.com/pandas-drinks\", usecols=[\"country\", \"wine_servings\"],index_col=[\"country\"]).squeeze()"
   ]
  },
  {
   "cell_type": "code",
   "execution_count": 20,
   "id": "23850a91-58b6-4858-8ddd-ca961050df3d",
   "metadata": {},
   "outputs": [
    {
     "data": {
      "text/plain": [
       "country\n",
       "Afghanistan      NaN\n",
       "Albania         54.0\n",
       "Algeria         14.0\n",
       "Andorra        312.0\n",
       "Angola          45.0\n",
       "Name: wine_servings, dtype: float64"
      ]
     },
     "execution_count": 20,
     "metadata": {},
     "output_type": "execute_result"
    }
   ],
   "source": [
    "alc_series.head()"
   ]
  },
  {
   "cell_type": "code",
   "execution_count": 21,
   "id": "27af3e1f-6ca5-4c02-8bd9-4880dacfd2c9",
   "metadata": {},
   "outputs": [
    {
     "data": {
      "text/plain": [
       "pandas.core.series.Series"
      ]
     },
     "execution_count": 21,
     "metadata": {},
     "output_type": "execute_result"
    }
   ],
   "source": [
    "type(alc_series)"
   ]
  },
  {
   "cell_type": "code",
   "execution_count": 22,
   "id": "3468dbcb-88b6-41a6-91f4-74734009b93c",
   "metadata": {},
   "outputs": [
    {
     "data": {
      "text/plain": [
       "193"
      ]
     },
     "execution_count": 22,
     "metadata": {},
     "output_type": "execute_result"
    }
   ],
   "source": [
    "alc_series.size"
   ]
  },
  {
   "cell_type": "code",
   "execution_count": 23,
   "id": "9c7f62d0-c47e-4c35-91f4-06742b114427",
   "metadata": {},
   "outputs": [
    {
     "data": {
      "text/plain": [
       "(193,)"
      ]
     },
     "execution_count": 23,
     "metadata": {},
     "output_type": "execute_result"
    }
   ],
   "source": [
    "alc_series.shape"
   ]
  },
  {
   "cell_type": "code",
   "execution_count": 26,
   "id": "5c8888fd-39ff-4107-9e32-9c28ea38fbb3",
   "metadata": {},
   "outputs": [
    {
     "data": {
      "text/plain": [
       "array([ nan,  54.,  14., 312.,  45.,  45., 221.,  11., 212., 191.,   5.,\n",
       "        51.,   7.,  nan,  36.,  42., 212.,   8.,  13.,  nan,   8.,   8.,\n",
       "        35.,  16.,   1.,  94.,   7.,  nan,   7.,  16.,   1.,   4.,   1.,\n",
       "         1.,   1., 172.,   8.,   3.,   1.,   9.,  74.,  11., 254.,   5.,\n",
       "       113., 134.,  nan,   1., 278.,   3.,  26.,   9.,   3.,   1.,   2.,\n",
       "       233.,  nan,  59.,  nan,   1.,  97.,  37.,  59.,   1., 149., 175.,\n",
       "         1., 218.,  28.,   2.,   2.,  21.,   1.,   1.,   2., 185.,  78.,\n",
       "        nan,  nan,  nan,  nan, 165.,   9., 237.,   9.,  16.,   1.,  12.,\n",
       "         2.,   1.,  nan,   6., 123.,  62.,  31.,  nan,   2.,  nan,  56.,\n",
       "       271.,   4.,   1.,  nan,  nan,   1.,  12.,  nan,  nan,  18.,   5.,\n",
       "        18.,  nan,   8., 128.,   1.,   5.,  nan,   1.,   8.,  nan,  19.,\n",
       "       175.,   1.,   1.,   2.,   7., 129.,   1.,  nan,  23.,  18.,   1.,\n",
       "        74.,  21.,   1.,  56., 339.,   7.,   9.,  18., 167.,  73.,  nan,\n",
       "        32.,  71.,  11.,  24.,  nan,  14.,  nan,   7., 127.,  51.,   2.,\n",
       "        11., 116., 276.,   1.,  nan,  81., 112.,  nan,  nan,   7.,   2.,\n",
       "       186.,  28.,  16.,  nan,   1.,  86.,   4.,  19.,   5.,   7.,   2.,\n",
       "         7.,  32.,   9.,  nan,  45.,   5., 195.,   1.,  84.,  22.,   8.,\n",
       "        11.,   3.,   1.,  nan,   4.,   4.])"
      ]
     },
     "execution_count": 26,
     "metadata": {},
     "output_type": "execute_result"
    }
   ],
   "source": [
    "alc_series.values"
   ]
  },
  {
   "cell_type": "code",
   "execution_count": 27,
   "id": "d5067399-80fd-4643-94c4-d9213d83f447",
   "metadata": {},
   "outputs": [
    {
     "data": {
      "text/plain": [
       "Index(['Afghanistan', 'Albania', 'Algeria', 'Andorra', 'Angola',\n",
       "       'Antigua & Barbuda', 'Argentina', 'Armenia', 'Australia', 'Austria',\n",
       "       ...\n",
       "       'Tanzania', 'USA', 'Uruguay', 'Uzbekistan', 'Vanuatu', 'Venezuela',\n",
       "       'Vietnam', 'Yemen', 'Zambia', 'Zimbabwe'],\n",
       "      dtype='object', name='country', length=193)"
      ]
     },
     "execution_count": 27,
     "metadata": {},
     "output_type": "execute_result"
    }
   ],
   "source": [
    "alc_series.index"
   ]
  },
  {
   "cell_type": "code",
   "execution_count": 28,
   "id": "98df80b3-e59b-4794-85e8-423471049d3e",
   "metadata": {},
   "outputs": [
    {
     "data": {
      "text/plain": [
       "193"
      ]
     },
     "execution_count": 28,
     "metadata": {},
     "output_type": "execute_result"
    }
   ],
   "source": [
    "len(alc_series)"
   ]
  },
  {
   "cell_type": "code",
   "execution_count": 37,
   "id": "ee57f8f0-1c50-4fab-a886-cfbe68258948",
   "metadata": {},
   "outputs": [
    {
     "data": {
      "text/plain": [
       "array([ nan,  54.,  14., 312.,  45., 221.,  11., 212., 191.,   5.,  51.,\n",
       "         7.,  36.,  42.,   8.,  13.,  35.,  16.,   1.,  94.,   4., 172.,\n",
       "         3.,   9.,  74., 254., 113., 134., 278.,  26.,   2., 233.,  59.,\n",
       "        97.,  37., 149., 175., 218.,  28.,  21., 185.,  78., 165., 237.,\n",
       "        12.,   6., 123.,  62.,  31.,  56., 271.,  18., 128.,  19., 129.,\n",
       "        23., 339., 167.,  73.,  32.,  71.,  24., 127., 116., 276.,  81.,\n",
       "       112., 186.,  86., 195.,  84.,  22.])"
      ]
     },
     "execution_count": 37,
     "metadata": {},
     "output_type": "execute_result"
    }
   ],
   "source": [
    "alc_series.unique()"
   ]
  },
  {
   "cell_type": "code",
   "execution_count": 38,
   "id": "b62e1c8d-a36a-46e4-965f-b5355e035f13",
   "metadata": {},
   "outputs": [
    {
     "data": {
      "text/plain": [
       "72"
      ]
     },
     "execution_count": 38,
     "metadata": {},
     "output_type": "execute_result"
    }
   ],
   "source": [
    "alc_series.unique().size"
   ]
  },
  {
   "cell_type": "code",
   "execution_count": 36,
   "id": "2bdafcb8-d837-4c47-b69c-96c1384614c1",
   "metadata": {},
   "outputs": [
    {
     "data": {
      "text/plain": [
       "71"
      ]
     },
     "execution_count": 36,
     "metadata": {},
     "output_type": "execute_result"
    }
   ],
   "source": [
    "alc_series.nunique()"
   ]
  },
  {
   "cell_type": "code",
   "execution_count": 39,
   "id": "0b0a19ff-321b-4698-9837-976143700d15",
   "metadata": {},
   "outputs": [
    {
     "data": {
      "text/plain": [
       "72"
      ]
     },
     "execution_count": 39,
     "metadata": {},
     "output_type": "execute_result"
    }
   ],
   "source": [
    "alc_series.nunique(dropna=False)"
   ]
  },
  {
   "cell_type": "markdown",
   "id": "67b1567a-63ef-4afa-bbce-5e4be28ff44a",
   "metadata": {},
   "source": [
    "## count method"
   ]
  },
  {
   "cell_type": "code",
   "execution_count": 47,
   "id": "e1099c1f-8b66-4b29-8f5e-2e13fd6f7e42",
   "metadata": {},
   "outputs": [
    {
     "data": {
      "text/plain": [
       "162"
      ]
     },
     "execution_count": 47,
     "metadata": {},
     "output_type": "execute_result"
    }
   ],
   "source": [
    "alc_series.count()"
   ]
  },
  {
   "cell_type": "code",
   "execution_count": 48,
   "id": "d521804d-369e-42c9-b9f0-3a627b20f83a",
   "metadata": {},
   "outputs": [
    {
     "data": {
      "text/plain": [
       "193"
      ]
     },
     "execution_count": 48,
     "metadata": {},
     "output_type": "execute_result"
    }
   ],
   "source": [
    "alc_series.size"
   ]
  },
  {
   "cell_type": "code",
   "execution_count": 49,
   "id": "293de3ae-ebc2-4efa-a743-e0f6c335d533",
   "metadata": {},
   "outputs": [],
   "source": [
    "# only not null values "
   ]
  },
  {
   "cell_type": "code",
   "execution_count": 54,
   "id": "b7a5b77d-f0c3-4f44-9676-7608da484f9b",
   "metadata": {},
   "outputs": [
    {
     "data": {
      "text/plain": [
       "True"
      ]
     },
     "execution_count": 54,
     "metadata": {},
     "output_type": "execute_result"
    }
   ],
   "source": [
    "alc_series.isna().any()"
   ]
  },
  {
   "cell_type": "code",
   "execution_count": 55,
   "id": "f57edab7-34cf-4776-9fd9-a4eca3503777",
   "metadata": {},
   "outputs": [
    {
     "data": {
      "text/plain": [
       "31"
      ]
     },
     "execution_count": 55,
     "metadata": {},
     "output_type": "execute_result"
    }
   ],
   "source": [
    "alc_series.isna().sum()"
   ]
  },
  {
   "cell_type": "code",
   "execution_count": 58,
   "id": "f726b9ec-182e-4b87-bc8e-1e2f531b6bda",
   "metadata": {},
   "outputs": [
    {
     "data": {
      "text/plain": [
       "True"
      ]
     },
     "execution_count": 58,
     "metadata": {},
     "output_type": "execute_result"
    }
   ],
   "source": [
    "alc_series.hasnans"
   ]
  },
  {
   "cell_type": "code",
   "execution_count": 60,
   "id": "2d72394c-fa2e-4678-8936-13ce5c079e17",
   "metadata": {},
   "outputs": [
    {
     "data": {
      "text/plain": [
       "31"
      ]
     },
     "execution_count": 60,
     "metadata": {},
     "output_type": "execute_result"
    }
   ],
   "source": [
    "alc_series.isnull().sum()"
   ]
  },
  {
   "cell_type": "code",
   "execution_count": 63,
   "id": "0860be93-b2bd-455f-b71b-825f2951f483",
   "metadata": {},
   "outputs": [
    {
     "data": {
      "text/plain": [
       "Index(['Afghanistan', 'Bangladesh', 'Bhutan', 'Burundi', 'North Korea',\n",
       "       'Eritrea', 'Ethiopia', 'India', 'Indonesia', 'Iran', 'Iraq', 'Kuwait',\n",
       "       'Lesotho', 'Libya', 'Malaysia', 'Maldives', 'Marshall Islands',\n",
       "       'Mauritania', 'Monaco', 'Myanmar', 'Nepal', 'Pakistan', 'Rwanda',\n",
       "       'San Marino', 'Saudi Arabia', 'Somalia', 'Sri Lanka', 'Sudan',\n",
       "       'Tajikistan', 'Uganda', 'Yemen'],\n",
       "      dtype='object', name='country')"
      ]
     },
     "execution_count": 63,
     "metadata": {},
     "output_type": "execute_result"
    }
   ],
   "source": [
    "alc_series[alc_series.isnull()].index"
   ]
  },
  {
   "cell_type": "code",
   "execution_count": 64,
   "id": "640721e0-5be0-4eff-8331-c819a41c361f",
   "metadata": {},
   "outputs": [
    {
     "data": {
      "text/plain": [
       "['Afghanistan',\n",
       " 'Bangladesh',\n",
       " 'Bhutan',\n",
       " 'Burundi',\n",
       " 'North Korea',\n",
       " 'Eritrea',\n",
       " 'Ethiopia',\n",
       " 'India',\n",
       " 'Indonesia',\n",
       " 'Iran',\n",
       " 'Iraq',\n",
       " 'Kuwait',\n",
       " 'Lesotho',\n",
       " 'Libya',\n",
       " 'Malaysia',\n",
       " 'Maldives',\n",
       " 'Marshall Islands',\n",
       " 'Mauritania',\n",
       " 'Monaco',\n",
       " 'Myanmar',\n",
       " 'Nepal',\n",
       " 'Pakistan',\n",
       " 'Rwanda',\n",
       " 'San Marino',\n",
       " 'Saudi Arabia',\n",
       " 'Somalia',\n",
       " 'Sri Lanka',\n",
       " 'Sudan',\n",
       " 'Tajikistan',\n",
       " 'Uganda',\n",
       " 'Yemen']"
      ]
     },
     "execution_count": 64,
     "metadata": {},
     "output_type": "execute_result"
    }
   ],
   "source": [
    "list(alc_series[alc_series.isnull()].index)"
   ]
  },
  {
   "cell_type": "markdown",
   "id": "146c4f22-a14c-4b26-b9d1-f51ec17006e5",
   "metadata": {},
   "source": [
    "## notnull() And notna()"
   ]
  },
  {
   "cell_type": "code",
   "execution_count": 91,
   "id": "944bb8cd-89fb-4528-8f19-28ee83939afc",
   "metadata": {},
   "outputs": [
    {
     "data": {
      "text/plain": [
       "country\n",
       "Afghanistan    False\n",
       "Albania         True\n",
       "Algeria         True\n",
       "Andorra         True\n",
       "Angola          True\n",
       "               ...  \n",
       "Venezuela       True\n",
       "Vietnam         True\n",
       "Yemen          False\n",
       "Zambia          True\n",
       "Zimbabwe        True\n",
       "Name: wine_servings, Length: 193, dtype: bool"
      ]
     },
     "execution_count": 91,
     "metadata": {},
     "output_type": "execute_result"
    }
   ],
   "source": [
    "alc_series.notnull()"
   ]
  },
  {
   "cell_type": "code",
   "execution_count": 92,
   "id": "0b39e1b8-dac7-493e-8817-d5e5e7bea56f",
   "metadata": {},
   "outputs": [
    {
     "data": {
      "text/plain": [
       "country\n",
       "Afghanistan    False\n",
       "Albania         True\n",
       "Algeria         True\n",
       "Andorra         True\n",
       "Angola          True\n",
       "               ...  \n",
       "Venezuela       True\n",
       "Vietnam         True\n",
       "Yemen          False\n",
       "Zambia          True\n",
       "Zimbabwe        True\n",
       "Name: wine_servings, Length: 193, dtype: bool"
      ]
     },
     "execution_count": 92,
     "metadata": {},
     "output_type": "execute_result"
    }
   ],
   "source": [
    "alc_series.notna()"
   ]
  },
  {
   "cell_type": "code",
   "execution_count": 93,
   "id": "e09ff8d8-49b6-49ef-b3b5-85d97494670e",
   "metadata": {},
   "outputs": [
    {
     "data": {
      "text/plain": [
       "country\n",
       "Albania               54.0\n",
       "Algeria               14.0\n",
       "Andorra              312.0\n",
       "Angola                45.0\n",
       "Antigua & Barbuda     45.0\n",
       "                     ...  \n",
       "Vanuatu               11.0\n",
       "Venezuela              3.0\n",
       "Vietnam                1.0\n",
       "Zambia                 4.0\n",
       "Zimbabwe               4.0\n",
       "Name: wine_servings, Length: 162, dtype: float64"
      ]
     },
     "execution_count": 93,
     "metadata": {},
     "output_type": "execute_result"
    }
   ],
   "source": [
    "alc_series.loc[alc_series.notnull()]"
   ]
  },
  {
   "cell_type": "code",
   "execution_count": 94,
   "id": "7bb50994-944e-43b8-9686-8659b14ce5cb",
   "metadata": {},
   "outputs": [
    {
     "data": {
      "text/plain": [
       "country\n",
       "Albania               54.0\n",
       "Algeria               14.0\n",
       "Andorra              312.0\n",
       "Angola                45.0\n",
       "Antigua & Barbuda     45.0\n",
       "                     ...  \n",
       "Vanuatu               11.0\n",
       "Venezuela              3.0\n",
       "Vietnam                1.0\n",
       "Zambia                 4.0\n",
       "Zimbabwe               4.0\n",
       "Name: wine_servings, Length: 162, dtype: float64"
      ]
     },
     "execution_count": 94,
     "metadata": {},
     "output_type": "execute_result"
    }
   ],
   "source": [
    "alc_series[alc_series.notnull()]"
   ]
  },
  {
   "cell_type": "code",
   "execution_count": 97,
   "id": "54e4349a-ef9f-4a9a-af2a-aadfe2c8084a",
   "metadata": {},
   "outputs": [],
   "source": [
    "wine_servings = alc_series.loc[alc_series.notnull()]"
   ]
  },
  {
   "cell_type": "code",
   "execution_count": 98,
   "id": "c1ba8495-885d-4ef5-8fb0-c96035bca8a9",
   "metadata": {},
   "outputs": [
    {
     "data": {
      "text/plain": [
       "country\n",
       "Albania               54.0\n",
       "Algeria               14.0\n",
       "Andorra              312.0\n",
       "Angola                45.0\n",
       "Antigua & Barbuda     45.0\n",
       "                     ...  \n",
       "Vanuatu               11.0\n",
       "Venezuela              3.0\n",
       "Vietnam                1.0\n",
       "Zambia                 4.0\n",
       "Zimbabwe               4.0\n",
       "Name: wine_servings, Length: 162, dtype: float64"
      ]
     },
     "execution_count": 98,
     "metadata": {},
     "output_type": "execute_result"
    }
   ],
   "source": [
    "wine_servings"
   ]
  },
  {
   "cell_type": "code",
   "execution_count": 100,
   "id": "2941df2b-5acc-4acb-9994-f94d0996b815",
   "metadata": {},
   "outputs": [
    {
     "data": {
      "text/plain": [
       "8221.0"
      ]
     },
     "execution_count": 100,
     "metadata": {},
     "output_type": "execute_result"
    }
   ],
   "source": [
    "wine_servings.values.sum()"
   ]
  },
  {
   "cell_type": "code",
   "execution_count": 101,
   "id": "c218779f-d8c4-4a78-aad8-a84f6f901775",
   "metadata": {},
   "outputs": [
    {
     "data": {
      "text/plain": [
       "8221.0"
      ]
     },
     "execution_count": 101,
     "metadata": {},
     "output_type": "execute_result"
    }
   ],
   "source": [
    "wine_servings.sum()"
   ]
  },
  {
   "cell_type": "code",
   "execution_count": 102,
   "id": "490e427f-df83-40a5-a0cd-d91a9ab53e21",
   "metadata": {},
   "outputs": [],
   "source": [
    "mask = wine_servings < 100"
   ]
  },
  {
   "cell_type": "code",
   "execution_count": 103,
   "id": "800b43ee-182d-41c2-8db9-dabf9523a375",
   "metadata": {},
   "outputs": [
    {
     "data": {
      "text/plain": [
       "country\n",
       "Albania               True\n",
       "Algeria               True\n",
       "Andorra              False\n",
       "Angola                True\n",
       "Antigua & Barbuda     True\n",
       "                     ...  \n",
       "Vanuatu               True\n",
       "Venezuela             True\n",
       "Vietnam               True\n",
       "Zambia                True\n",
       "Zimbabwe              True\n",
       "Name: wine_servings, Length: 162, dtype: bool"
      ]
     },
     "execution_count": 103,
     "metadata": {},
     "output_type": "execute_result"
    }
   ],
   "source": [
    "mask"
   ]
  },
  {
   "cell_type": "code",
   "execution_count": 105,
   "id": "0a6fdf8e-c028-4ef2-85aa-be2e0cf8d9b3",
   "metadata": {},
   "outputs": [
    {
     "data": {
      "text/plain": [
       "2416.0"
      ]
     },
     "execution_count": 105,
     "metadata": {},
     "output_type": "execute_result"
    }
   ],
   "source": [
    "wine_servings.loc[mask].sum()"
   ]
  },
  {
   "cell_type": "markdown",
   "id": "87b6af55-9312-4ab2-932f-0a9a1f5c3f3e",
   "metadata": {},
   "source": [
    "## Dropping and filling na's"
   ]
  },
  {
   "cell_type": "code",
   "execution_count": 108,
   "id": "5b688bdf-c133-4b0f-92ae-4f8c3649c4fd",
   "metadata": {},
   "outputs": [
    {
     "data": {
      "text/plain": [
       "country\n",
       "Albania               54.0\n",
       "Algeria               14.0\n",
       "Andorra              312.0\n",
       "Angola                45.0\n",
       "Antigua & Barbuda     45.0\n",
       "                     ...  \n",
       "Vanuatu               11.0\n",
       "Venezuela              3.0\n",
       "Vietnam                1.0\n",
       "Zambia                 4.0\n",
       "Zimbabwe               4.0\n",
       "Name: wine_servings, Length: 162, dtype: float64"
      ]
     },
     "execution_count": 108,
     "metadata": {},
     "output_type": "execute_result"
    }
   ],
   "source": [
    "# series.dropna()\n",
    "alc_series.dropna()"
   ]
  },
  {
   "cell_type": "code",
   "execution_count": 109,
   "id": "c5f0acfc-fe34-44c5-8db2-e0052c006bc4",
   "metadata": {},
   "outputs": [
    {
     "data": {
      "text/plain": [
       "country\n",
       "Afghanistan      0.0\n",
       "Albania         54.0\n",
       "Algeria         14.0\n",
       "Andorra        312.0\n",
       "Angola          45.0\n",
       "               ...  \n",
       "Venezuela        3.0\n",
       "Vietnam          1.0\n",
       "Yemen            0.0\n",
       "Zambia           4.0\n",
       "Zimbabwe         4.0\n",
       "Name: wine_servings, Length: 193, dtype: float64"
      ]
     },
     "execution_count": 109,
     "metadata": {},
     "output_type": "execute_result"
    }
   ],
   "source": [
    "alc_series.fillna(0)"
   ]
  },
  {
   "cell_type": "code",
   "execution_count": 113,
   "id": "04269890-f40b-4764-96f5-c613ee3a521d",
   "metadata": {},
   "outputs": [
    {
     "data": {
      "text/plain": [
       "country\n",
       "Afghanistan    Missing\n",
       "Albania           54.0\n",
       "Algeria           14.0\n",
       "Andorra          312.0\n",
       "Angola            45.0\n",
       "                ...   \n",
       "Venezuela          3.0\n",
       "Vietnam            1.0\n",
       "Yemen          Missing\n",
       "Zambia             4.0\n",
       "Zimbabwe           4.0\n",
       "Name: wine_servings, Length: 193, dtype: object"
      ]
     },
     "execution_count": 113,
     "metadata": {},
     "output_type": "execute_result"
    }
   ],
   "source": [
    "alc_series.fillna(\"Missing\")"
   ]
  },
  {
   "cell_type": "code",
   "execution_count": 114,
   "id": "883a4131-5734-4588-a9e2-7c8298c347eb",
   "metadata": {},
   "outputs": [
    {
     "data": {
      "text/plain": [
       "country\n",
       "Afghanistan      NaN\n",
       "Albania         54.0\n",
       "Algeria         14.0\n",
       "Andorra        312.0\n",
       "Angola          45.0\n",
       "               ...  \n",
       "Venezuela        3.0\n",
       "Vietnam          1.0\n",
       "Yemen            1.0\n",
       "Zambia           4.0\n",
       "Zimbabwe         4.0\n",
       "Name: wine_servings, Length: 193, dtype: float64"
      ]
     },
     "execution_count": 114,
     "metadata": {},
     "output_type": "execute_result"
    }
   ],
   "source": [
    "alc_series.ffill()"
   ]
  },
  {
   "cell_type": "code",
   "execution_count": 112,
   "id": "5213040e-c849-47db-8972-86905b8b68a5",
   "metadata": {},
   "outputs": [
    {
     "data": {
      "text/plain": [
       "country\n",
       "Afghanistan     54.0\n",
       "Albania         54.0\n",
       "Algeria         14.0\n",
       "Andorra        312.0\n",
       "Angola          45.0\n",
       "               ...  \n",
       "Venezuela        3.0\n",
       "Vietnam          1.0\n",
       "Yemen            4.0\n",
       "Zambia           4.0\n",
       "Zimbabwe         4.0\n",
       "Name: wine_servings, Length: 193, dtype: float64"
      ]
     },
     "execution_count": 112,
     "metadata": {},
     "output_type": "execute_result"
    }
   ],
   "source": [
    "alc_series.bfill()"
   ]
  },
  {
   "cell_type": "code",
   "execution_count": 116,
   "id": "310a43b6-090e-40e0-97a3-e816479c03db",
   "metadata": {},
   "outputs": [
    {
     "data": {
      "text/plain": [
       "country\n",
       "Afghanistan      NaN\n",
       "Albania         54.0\n",
       "Algeria         14.0\n",
       "Andorra        312.0\n",
       "Angola          45.0\n",
       "               ...  \n",
       "Venezuela        3.0\n",
       "Vietnam          1.0\n",
       "Yemen            2.5\n",
       "Zambia           4.0\n",
       "Zimbabwe         4.0\n",
       "Name: wine_servings, Length: 193, dtype: float64"
      ]
     },
     "execution_count": 116,
     "metadata": {},
     "output_type": "execute_result"
    }
   ],
   "source": [
    "alc_series.interpolate()"
   ]
  },
  {
   "cell_type": "code",
   "execution_count": 117,
   "id": "259b6e42-1938-4b23-bfb0-9782c8289fa1",
   "metadata": {},
   "outputs": [
    {
     "data": {
      "text/plain": [
       "count    162.000000\n",
       "mean      50.746914\n",
       "std       76.134917\n",
       "min        1.000000\n",
       "25%        3.000000\n",
       "50%       11.500000\n",
       "75%       61.250000\n",
       "max      339.000000\n",
       "Name: wine_servings, dtype: float64"
      ]
     },
     "execution_count": 117,
     "metadata": {},
     "output_type": "execute_result"
    }
   ],
   "source": [
    "alc_series.describe()"
   ]
  },
  {
   "cell_type": "code",
   "execution_count": 118,
   "id": "bfc42e77-2a79-4880-a418-5f05df811eab",
   "metadata": {},
   "outputs": [
    {
     "data": {
      "text/plain": [
       "0    1.0\n",
       "Name: wine_servings, dtype: float64"
      ]
     },
     "execution_count": 118,
     "metadata": {},
     "output_type": "execute_result"
    }
   ],
   "source": [
    "alc_series.mode()"
   ]
  },
  {
   "cell_type": "code",
   "execution_count": 119,
   "id": "fde405b8-6a81-4f38-938b-a08a2b65dd79",
   "metadata": {},
   "outputs": [
    {
     "data": {
      "text/plain": [
       "country\n",
       "Afghanistan    False\n",
       "Albania        False\n",
       "Algeria        False\n",
       "Andorra        False\n",
       "Angola         False\n",
       "               ...  \n",
       "Venezuela      False\n",
       "Vietnam         True\n",
       "Yemen          False\n",
       "Zambia         False\n",
       "Zimbabwe       False\n",
       "Name: wine_servings, Length: 193, dtype: bool"
      ]
     },
     "execution_count": 119,
     "metadata": {},
     "output_type": "execute_result"
    }
   ],
   "source": [
    "alc_series == 1"
   ]
  },
  {
   "cell_type": "code",
   "execution_count": 121,
   "id": "4ac41308-7675-4a2a-a708-4b4f0efce0af",
   "metadata": {},
   "outputs": [
    {
     "data": {
      "text/plain": [
       "28.0"
      ]
     },
     "execution_count": 121,
     "metadata": {},
     "output_type": "execute_result"
    }
   ],
   "source": [
    "alc_series.loc[alc_series == 1].sum()"
   ]
  },
  {
   "cell_type": "code",
   "execution_count": 122,
   "id": "07287117-36d9-42f4-90bf-9c2465693df0",
   "metadata": {},
   "outputs": [
    {
     "data": {
      "text/plain": [
       "wine_servings\n",
       "1.0      28\n",
       "2.0      10\n",
       "7.0       9\n",
       "8.0       7\n",
       "5.0       6\n",
       "         ..\n",
       "218.0     1\n",
       "185.0     1\n",
       "78.0      1\n",
       "165.0     1\n",
       "22.0      1\n",
       "Name: count, Length: 71, dtype: int64"
      ]
     },
     "execution_count": 122,
     "metadata": {},
     "output_type": "execute_result"
    }
   ],
   "source": [
    "alc_series.value_counts()"
   ]
  },
  {
   "cell_type": "code",
   "execution_count": 123,
   "id": "ffd7b737-c223-4791-b750-d6bda753ee5f",
   "metadata": {},
   "outputs": [
    {
     "data": {
      "text/plain": [
       "28"
      ]
     },
     "execution_count": 123,
     "metadata": {},
     "output_type": "execute_result"
    }
   ],
   "source": [
    "alc_series.value_counts().iloc[0]"
   ]
  },
  {
   "cell_type": "code",
   "execution_count": 124,
   "id": "0fe21513-f76e-44b3-b387-6ed1d840fcee",
   "metadata": {},
   "outputs": [
    {
     "data": {
      "text/plain": [
       "wine_servings\n",
       "1.0      0.172840\n",
       "2.0      0.061728\n",
       "7.0      0.055556\n",
       "8.0      0.043210\n",
       "5.0      0.037037\n",
       "           ...   \n",
       "218.0    0.006173\n",
       "185.0    0.006173\n",
       "78.0     0.006173\n",
       "165.0    0.006173\n",
       "22.0     0.006173\n",
       "Name: proportion, Length: 71, dtype: float64"
      ]
     },
     "execution_count": 124,
     "metadata": {},
     "output_type": "execute_result"
    }
   ],
   "source": [
    "alc_series.value_counts(normalize=True)"
   ]
  },
  {
   "cell_type": "markdown",
   "id": "c95aec0d-e3d9-4299-a7ee-ecf0d59839fb",
   "metadata": {},
   "source": [
    "## idmax() and idmin()"
   ]
  },
  {
   "cell_type": "code",
   "execution_count": 125,
   "id": "124ab346-a022-4847-b4eb-29919781e80c",
   "metadata": {},
   "outputs": [
    {
     "data": {
      "text/plain": [
       "1.0"
      ]
     },
     "execution_count": 125,
     "metadata": {},
     "output_type": "execute_result"
    }
   ],
   "source": [
    "alc_series.min()"
   ]
  },
  {
   "cell_type": "code",
   "execution_count": 126,
   "id": "985310ab-81d8-4db7-97ff-7b1cef7c0939",
   "metadata": {},
   "outputs": [
    {
     "data": {
      "text/plain": [
       "339.0"
      ]
     },
     "execution_count": 126,
     "metadata": {},
     "output_type": "execute_result"
    }
   ],
   "source": [
    "alc_series.max()"
   ]
  },
  {
   "cell_type": "code",
   "execution_count": 127,
   "id": "2340f4e6-c623-4aa3-8c23-18b48f39d143",
   "metadata": {},
   "outputs": [
    {
     "data": {
      "text/plain": [
       "country\n",
       "Portugal    339.0\n",
       "Name: wine_servings, dtype: float64"
      ]
     },
     "execution_count": 127,
     "metadata": {},
     "output_type": "execute_result"
    }
   ],
   "source": [
    "alc_series[alc_series == alc_series.max()]"
   ]
  },
  {
   "cell_type": "code",
   "execution_count": 132,
   "id": "507ccf4c-1aed-4ac2-8d18-ef0263b3ebe9",
   "metadata": {},
   "outputs": [
    {
     "data": {
      "text/plain": [
       "Index(['Portugal'], dtype='object', name='country')"
      ]
     },
     "execution_count": 132,
     "metadata": {},
     "output_type": "execute_result"
    }
   ],
   "source": [
    "alc_series[alc_series == alc_series.max()].index"
   ]
  },
  {
   "cell_type": "code",
   "execution_count": 134,
   "id": "87491689-46e6-4f22-a250-6d011c3dd194",
   "metadata": {},
   "outputs": [
    {
     "data": {
      "text/plain": [
       "'Portugal'"
      ]
     },
     "execution_count": 134,
     "metadata": {},
     "output_type": "execute_result"
    }
   ],
   "source": [
    "alc_series[alc_series == alc_series.max()].index[0]"
   ]
  },
  {
   "cell_type": "code",
   "execution_count": 139,
   "id": "04070edb-8db2-4836-a29d-8934f598cbf2",
   "metadata": {},
   "outputs": [
    {
     "data": {
      "text/plain": [
       "'Portugal'"
      ]
     },
     "execution_count": 139,
     "metadata": {},
     "output_type": "execute_result"
    }
   ],
   "source": [
    "alc_series.idxmax()"
   ]
  },
  {
   "cell_type": "code",
   "execution_count": 144,
   "id": "8a059b08-b6a1-4ba0-bc46-4d341fb21d96",
   "metadata": {},
   "outputs": [
    {
     "data": {
      "text/plain": [
       "Index(['Brunei', 'Cambodia', 'Canada', 'Central African Republic', 'Chad',\n",
       "       'Comoros', 'DR Congo', 'Egypt', 'Fiji', 'Gambia', 'Ghana', 'Guyana',\n",
       "       'Haiti', 'Jordan', 'Kiribati', 'Malawi', 'Mali', 'Morocco', 'Namibia',\n",
       "       'Nicaragua', 'Niger', 'Oman', 'Papua New Guinea', 'Philippines',\n",
       "       'Solomon Islands', 'Thailand', 'Tanzania', 'Vietnam'],\n",
       "      dtype='object', name='country')"
      ]
     },
     "execution_count": 144,
     "metadata": {},
     "output_type": "execute_result"
    }
   ],
   "source": [
    "alc_series[alc_series == alc_series.min()].index"
   ]
  },
  {
   "cell_type": "code",
   "execution_count": 148,
   "id": "8a7f2af4-39f1-405f-9c68-ea1ebdb7bb07",
   "metadata": {},
   "outputs": [
    {
     "data": {
      "text/plain": [
       "'Brunei'"
      ]
     },
     "execution_count": 148,
     "metadata": {},
     "output_type": "execute_result"
    }
   ],
   "source": [
    "alc_series.idxmin()"
   ]
  },
  {
   "cell_type": "markdown",
   "id": "2ca03e33-82f0-4e98-80f4-5e754d6100ac",
   "metadata": {},
   "source": [
    "## idxmin() or idxmax() returns index label of corresponding values"
   ]
  },
  {
   "cell_type": "markdown",
   "id": "64f13745-14e5-4648-84ea-2e29ebc4369e",
   "metadata": {},
   "source": [
    "## argmax() or argmin() returns psition of max and min"
   ]
  },
  {
   "cell_type": "code",
   "execution_count": 149,
   "id": "6f774768-c6bf-4388-b3f0-80dcd2c7bb9d",
   "metadata": {},
   "outputs": [
    {
     "data": {
      "text/plain": [
       "136"
      ]
     },
     "execution_count": 149,
     "metadata": {},
     "output_type": "execute_result"
    }
   ],
   "source": [
    "alc_series.argmax()"
   ]
  },
  {
   "cell_type": "code",
   "execution_count": 150,
   "id": "31c83863-7798-443e-b8af-ca79978ac51b",
   "metadata": {},
   "outputs": [
    {
     "data": {
      "text/plain": [
       "24"
      ]
     },
     "execution_count": 150,
     "metadata": {},
     "output_type": "execute_result"
    }
   ],
   "source": [
    "alc_series.argmin()"
   ]
  },
  {
   "cell_type": "markdown",
   "id": "d428d8dd-69e2-42fd-9777-9f29ad044ae3",
   "metadata": {},
   "source": [
    "## sort_values()"
   ]
  },
  {
   "cell_type": "code",
   "execution_count": 152,
   "id": "b12d26ce-3de9-4b5b-ab6b-7d4ed24dd188",
   "metadata": {},
   "outputs": [
    {
     "data": {
      "text/plain": [
       "country\n",
       "Afghanistan      NaN\n",
       "Bangladesh       NaN\n",
       "Bhutan           NaN\n",
       "Burundi          NaN\n",
       "North Korea      NaN\n",
       "               ...  \n",
       "Luxembourg     271.0\n",
       "Slovenia       276.0\n",
       "Denmark        278.0\n",
       "Andorra        312.0\n",
       "Portugal       339.0\n",
       "Name: wine_servings, Length: 193, dtype: float64"
      ]
     },
     "execution_count": 152,
     "metadata": {},
     "output_type": "execute_result"
    }
   ],
   "source": [
    "alc_series.sort_values(na_position=\"first\")"
   ]
  },
  {
   "cell_type": "markdown",
   "id": "51124dfe-475a-4e55-a244-aced41b42446",
   "metadata": {},
   "source": [
    "## nlargest() and nsmallest()"
   ]
  },
  {
   "cell_type": "code",
   "execution_count": 155,
   "id": "3eb97221-ebe3-46a3-ad29-61fe8d2ceba8",
   "metadata": {},
   "outputs": [
    {
     "data": {
      "text/plain": [
       "country\n",
       "Portugal             339.0\n",
       "Andorra              312.0\n",
       "Denmark              278.0\n",
       "Slovenia             276.0\n",
       "Luxembourg           271.0\n",
       "Croatia              254.0\n",
       "Italy                237.0\n",
       "Equatorial Guinea    233.0\n",
       "Argentina            221.0\n",
       "Greece               218.0\n",
       "Name: wine_servings, dtype: float64"
      ]
     },
     "execution_count": 155,
     "metadata": {},
     "output_type": "execute_result"
    }
   ],
   "source": [
    "alc_series.sort_values(ascending=False)[:10] # 10 largest values"
   ]
  },
  {
   "cell_type": "code",
   "execution_count": 156,
   "id": "cbc030d7-a125-46db-8f25-989e213b7702",
   "metadata": {},
   "outputs": [
    {
     "data": {
      "text/plain": [
       "country\n",
       "Portugal             339.0\n",
       "Andorra              312.0\n",
       "Denmark              278.0\n",
       "Slovenia             276.0\n",
       "Luxembourg           271.0\n",
       "Croatia              254.0\n",
       "Italy                237.0\n",
       "Equatorial Guinea    233.0\n",
       "Argentina            221.0\n",
       "Greece               218.0\n",
       "Name: wine_servings, dtype: float64"
      ]
     },
     "execution_count": 156,
     "metadata": {},
     "output_type": "execute_result"
    }
   ],
   "source": [
    "alc_series.nlargest(n=10)"
   ]
  },
  {
   "cell_type": "code",
   "execution_count": 157,
   "id": "f29e352e-c129-465e-ab0d-f17625aa34ac",
   "metadata": {},
   "outputs": [
    {
     "data": {
      "text/plain": [
       "country\n",
       "Brunei                      1.0\n",
       "Cambodia                    1.0\n",
       "Canada                      1.0\n",
       "Central African Republic    1.0\n",
       "Chad                        1.0\n",
       "Comoros                     1.0\n",
       "DR Congo                    1.0\n",
       "Egypt                       1.0\n",
       "Fiji                        1.0\n",
       "Gambia                      1.0\n",
       "Name: wine_servings, dtype: float64"
      ]
     },
     "execution_count": 157,
     "metadata": {},
     "output_type": "execute_result"
    }
   ],
   "source": [
    "alc_series.nsmallest(n=10)"
   ]
  },
  {
   "cell_type": "markdown",
   "id": "0b482078-5022-4f38-8e68-4c9f2e6f81d7",
   "metadata": {},
   "source": [
    "## sort_index() -- sort by index"
   ]
  },
  {
   "cell_type": "code",
   "execution_count": 158,
   "id": "c02999ab-3c53-4804-ace2-da6c7fdf6839",
   "metadata": {},
   "outputs": [],
   "source": [
    "mask = alc_series > 50"
   ]
  },
  {
   "cell_type": "code",
   "execution_count": 160,
   "id": "5ad340d6-9ea5-4c4a-b061-91dd810bd923",
   "metadata": {},
   "outputs": [],
   "source": [
    "fifty_plus = alc_series.loc[mask]"
   ]
  },
  {
   "cell_type": "code",
   "execution_count": 162,
   "id": "80c52565-cab3-4988-90bc-5e8abe925065",
   "metadata": {},
   "outputs": [],
   "source": [
    "smallest_20 = fifty_plus.nsmallest(n=20)"
   ]
  },
  {
   "cell_type": "code",
   "execution_count": 163,
   "id": "43650250-72e6-477e-becc-8af1ab515644",
   "metadata": {},
   "outputs": [
    {
     "data": {
      "text/plain": [
       "74.25"
      ]
     },
     "execution_count": 163,
     "metadata": {},
     "output_type": "execute_result"
    }
   ],
   "source": [
    "smallest_20.mean()"
   ]
  },
  {
   "cell_type": "code",
   "execution_count": 164,
   "id": "f3c644a4-4cc2-49e2-bfb0-2f1837e2726e",
   "metadata": {},
   "outputs": [
    {
     "data": {
      "text/plain": [
       "73.5"
      ]
     },
     "execution_count": 164,
     "metadata": {},
     "output_type": "execute_result"
    }
   ],
   "source": [
    "smallest_20.median()"
   ]
  },
  {
   "cell_type": "code",
   "execution_count": 165,
   "id": "43c7ed22-ffa1-4f0b-b5b1-a33b5b2cb2cf",
   "metadata": {},
   "outputs": [
    {
     "data": {
      "text/plain": [
       "19.07292100831631"
      ]
     },
     "execution_count": 165,
     "metadata": {},
     "output_type": "execute_result"
    }
   ],
   "source": [
    "smallest_20.std()"
   ]
  },
  {
   "cell_type": "markdown",
   "id": "85e473cf-74d7-4ecb-8dee-d0705c5055d7",
   "metadata": {},
   "source": [
    "## Seies Arithmetics And fill_value "
   ]
  },
  {
   "cell_type": "code",
   "execution_count": 167,
   "id": "bd3fb3d2-f36c-472e-8246-d6a1a398f53a",
   "metadata": {},
   "outputs": [],
   "source": [
    "# use of arithmetics operators along with fill_value parameter"
   ]
  },
  {
   "cell_type": "code",
   "execution_count": 168,
   "id": "79cdfa2c-e36d-418e-9b08-d6facc68502e",
   "metadata": {},
   "outputs": [
    {
     "data": {
      "text/plain": [
       "5796.52561153286"
      ]
     },
     "execution_count": 168,
     "metadata": {},
     "output_type": "execute_result"
    }
   ],
   "source": [
    "alc_series.var()"
   ]
  },
  {
   "cell_type": "markdown",
   "id": "69fe92f5-f2c3-437c-a0f4-15001d6c8a01",
   "metadata": {},
   "source": [
    "## Cumulative Operations"
   ]
  },
  {
   "cell_type": "code",
   "execution_count": 169,
   "id": "ad37a83a-177f-40ae-affc-4d124f39d791",
   "metadata": {},
   "outputs": [
    {
     "data": {
      "text/plain": [
       "country\n",
       "Afghanistan       NaN\n",
       "Albania          54.0\n",
       "Algeria          68.0\n",
       "Andorra         380.0\n",
       "Angola          425.0\n",
       "                ...  \n",
       "Venezuela      8212.0\n",
       "Vietnam        8213.0\n",
       "Yemen             NaN\n",
       "Zambia         8217.0\n",
       "Zimbabwe       8221.0\n",
       "Name: wine_servings, Length: 193, dtype: float64"
      ]
     },
     "execution_count": 169,
     "metadata": {},
     "output_type": "execute_result"
    }
   ],
   "source": [
    "alc_series.cumsum()"
   ]
  },
  {
   "cell_type": "code",
   "execution_count": 170,
   "id": "5a5a6ae7-1a6a-4f1f-b0ed-3f0210997abb",
   "metadata": {},
   "outputs": [
    {
     "data": {
      "text/plain": [
       "country\n",
       "Afghanistan   NaN\n",
       "Albania       NaN\n",
       "Algeria       NaN\n",
       "Andorra       NaN\n",
       "Angola        NaN\n",
       "               ..\n",
       "Venezuela     NaN\n",
       "Vietnam       NaN\n",
       "Yemen         NaN\n",
       "Zambia        NaN\n",
       "Zimbabwe      NaN\n",
       "Name: wine_servings, Length: 193, dtype: float64"
      ]
     },
     "execution_count": 170,
     "metadata": {},
     "output_type": "execute_result"
    }
   ],
   "source": [
    "alc_series.cumsum(skipna=False)"
   ]
  },
  {
   "cell_type": "code",
   "execution_count": 172,
   "id": "023a417e-dc2c-453e-a13b-60e7c88922b3",
   "metadata": {},
   "outputs": [
    {
     "data": {
      "text/plain": [
       "nan"
      ]
     },
     "execution_count": 172,
     "metadata": {},
     "output_type": "execute_result"
    }
   ],
   "source": [
    "import numpy as np\n",
    "import pandas as pd\n",
    "# NaN or NA \"arithmetic operator\" anything  gives NA\n",
    "np.NaN + 12345"
   ]
  },
  {
   "cell_type": "code",
   "execution_count": 173,
   "id": "6b08e5a2-4850-43ff-8e8d-ed761c5b9230",
   "metadata": {},
   "outputs": [
    {
     "data": {
      "text/plain": [
       "<NA>"
      ]
     },
     "execution_count": 173,
     "metadata": {},
     "output_type": "execute_result"
    }
   ],
   "source": [
    "pd.NA + 12345"
   ]
  },
  {
   "cell_type": "code",
   "execution_count": 174,
   "id": "4fa8d332-a518-476d-a2da-fb157a94b0ae",
   "metadata": {},
   "outputs": [
    {
     "data": {
      "text/plain": [
       "country\n",
       "Afghanistan              NaN\n",
       "Albania         5.400000e+01\n",
       "Algeria         7.560000e+02\n",
       "Andorra         2.358720e+05\n",
       "Angola          1.061424e+07\n",
       "                   ...      \n",
       "Venezuela      2.142257e+182\n",
       "Vietnam        2.142257e+182\n",
       "Yemen                    NaN\n",
       "Zambia         8.569029e+182\n",
       "Zimbabwe       3.427612e+183\n",
       "Name: wine_servings, Length: 193, dtype: float64"
      ]
     },
     "execution_count": 174,
     "metadata": {},
     "output_type": "execute_result"
    }
   ],
   "source": [
    "# .cumprod()  cummulative prod\n",
    "alc_series.cumprod()"
   ]
  },
  {
   "cell_type": "code",
   "execution_count": 175,
   "id": "c9d8a106-f53c-4947-ab16-3933800c3810",
   "metadata": {},
   "outputs": [],
   "source": [
    "# .cummin() , .cummax()\n"
   ]
  },
  {
   "cell_type": "code",
   "execution_count": 176,
   "id": "9d3d99a5-d33d-46e2-a994-25ba4a33bf22",
   "metadata": {},
   "outputs": [
    {
     "data": {
      "text/plain": [
       "country\n",
       "Afghanistan     NaN\n",
       "Albania        54.0\n",
       "Algeria        14.0\n",
       "Andorra        14.0\n",
       "Angola         14.0\n",
       "               ... \n",
       "Venezuela       1.0\n",
       "Vietnam         1.0\n",
       "Yemen           NaN\n",
       "Zambia          1.0\n",
       "Zimbabwe        1.0\n",
       "Name: wine_servings, Length: 193, dtype: float64"
      ]
     },
     "execution_count": 176,
     "metadata": {},
     "output_type": "execute_result"
    }
   ],
   "source": [
    "alc_series.cummin()"
   ]
  },
  {
   "cell_type": "code",
   "execution_count": 177,
   "id": "b47cb0a7-16cc-495d-8209-c0552b49812c",
   "metadata": {},
   "outputs": [
    {
     "data": {
      "text/plain": [
       "country\n",
       "Afghanistan      NaN\n",
       "Albania         54.0\n",
       "Algeria         54.0\n",
       "Andorra        312.0\n",
       "Angola         312.0\n",
       "               ...  \n",
       "Venezuela      339.0\n",
       "Vietnam        339.0\n",
       "Yemen            NaN\n",
       "Zambia         339.0\n",
       "Zimbabwe       339.0\n",
       "Name: wine_servings, Length: 193, dtype: float64"
      ]
     },
     "execution_count": 177,
     "metadata": {},
     "output_type": "execute_result"
    }
   ],
   "source": [
    "alc_series.cummax()"
   ]
  },
  {
   "cell_type": "markdown",
   "id": "8e8dcf3a-4278-496e-ac0d-0197ab533ef9",
   "metadata": {},
   "source": [
    "## Pairwise Difference with diff()"
   ]
  },
  {
   "cell_type": "code",
   "execution_count": 178,
   "id": "d5ce85c0-136a-4ae0-89e0-a5a7d8b2621f",
   "metadata": {},
   "outputs": [
    {
     "data": {
      "text/plain": [
       "country\n",
       "Afghanistan      NaN\n",
       "Albania         54.0\n",
       "Algeria         14.0\n",
       "Andorra        312.0\n",
       "Angola          45.0\n",
       "Name: wine_servings, dtype: float64"
      ]
     },
     "execution_count": 178,
     "metadata": {},
     "output_type": "execute_result"
    }
   ],
   "source": [
    "alc_series.head()"
   ]
  },
  {
   "cell_type": "code",
   "execution_count": 180,
   "id": "1d19564f-d71f-4901-bc90-fb705b4dca6e",
   "metadata": {},
   "outputs": [
    {
     "data": {
      "text/plain": [
       "country\n",
       "Afghanistan      NaN\n",
       "Albania          NaN\n",
       "Algeria        -40.0\n",
       "Andorra        298.0\n",
       "Angola        -267.0\n",
       "Name: wine_servings, dtype: float64"
      ]
     },
     "execution_count": 180,
     "metadata": {},
     "output_type": "execute_result"
    }
   ],
   "source": [
    "# lag -- difference \n",
    "alc_series.diff().head()"
   ]
  },
  {
   "cell_type": "code",
   "execution_count": 181,
   "id": "06516464-1e64-48d1-99db-5208e2f556d2",
   "metadata": {},
   "outputs": [
    {
     "data": {
      "text/plain": [
       "country\n",
       "Afghanistan      NaN\n",
       "Albania          NaN\n",
       "Algeria          NaN\n",
       "Andorra        258.0\n",
       "Angola          31.0\n",
       "Name: wine_servings, dtype: float64"
      ]
     },
     "execution_count": 181,
     "metadata": {},
     "output_type": "execute_result"
    }
   ],
   "source": [
    "alc_series.diff(periods=2).head() # difference with previous second row"
   ]
  },
  {
   "cell_type": "code",
   "execution_count": 184,
   "id": "99b584d5-0ecc-41f9-9088-7b8da94f9538",
   "metadata": {},
   "outputs": [
    {
     "data": {
      "text/plain": [
       "country\n",
       "Afghanistan      NaN\n",
       "Albania         40.0\n",
       "Algeria       -298.0\n",
       "Andorra        267.0\n",
       "Angola           0.0\n",
       "               ...  \n",
       "Venezuela        2.0\n",
       "Vietnam          NaN\n",
       "Yemen            NaN\n",
       "Zambia           0.0\n",
       "Zimbabwe         NaN\n",
       "Name: wine_servings, Length: 193, dtype: float64"
      ]
     },
     "execution_count": 184,
     "metadata": {},
     "output_type": "execute_result"
    }
   ],
   "source": [
    "alc_series.diff(periods=-1) # lead differemce btw folloeing row"
   ]
  },
  {
   "cell_type": "code",
   "execution_count": 185,
   "id": "964bc7f1-f328-499e-8f16-458d0a0e99a4",
   "metadata": {},
   "outputs": [
    {
     "data": {
      "text/plain": [
       "country\n",
       "Afghanistan      NaN\n",
       "Albania       -258.0\n",
       "Algeria        -31.0\n",
       "Andorra        267.0\n",
       "Angola        -176.0\n",
       "               ...  \n",
       "Venezuela        NaN\n",
       "Vietnam         -3.0\n",
       "Yemen            NaN\n",
       "Zambia           NaN\n",
       "Zimbabwe         NaN\n",
       "Name: wine_servings, Length: 193, dtype: float64"
      ]
     },
     "execution_count": 185,
     "metadata": {},
     "output_type": "execute_result"
    }
   ],
   "source": [
    "alc_series.diff(periods=-2) # difference between 2nd following row"
   ]
  },
  {
   "cell_type": "markdown",
   "id": "ad33bea2-bb10-4a44-b18f-90bc12aa6a0b",
   "metadata": {},
   "source": [
    "## series Iteration"
   ]
  },
  {
   "cell_type": "code",
   "execution_count": 192,
   "id": "2aee5c4a-cbaa-4aee-a300-aa8db24ce4f8",
   "metadata": {},
   "outputs": [
    {
     "data": {
      "text/plain": [
       "country\n",
       "Mongolia         8.0\n",
       "Netherlands     19.0\n",
       "Bahamas         51.0\n",
       "Pakistan         NaN\n",
       "Norway         129.0\n",
       "Ireland        165.0\n",
       "Laos           123.0\n",
       "Spain          112.0\n",
       "Italy          237.0\n",
       "Belarus         42.0\n",
       "Name: wine_servings, dtype: float64"
      ]
     },
     "execution_count": 192,
     "metadata": {},
     "output_type": "execute_result"
    }
   ],
   "source": [
    "alc_series.sample(10, random_state=100)"
   ]
  },
  {
   "cell_type": "code",
   "execution_count": 191,
   "id": "31d054fc-2ba4-4f93-bb9c-33d8c39f1e4d",
   "metadata": {},
   "outputs": [
    {
     "data": {
      "text/plain": [
       "country\n",
       "Australia            212.0\n",
       "Brunei                 1.0\n",
       "Greece               218.0\n",
       "Maldives               NaN\n",
       "Kazakhstan            12.0\n",
       "Iran                   NaN\n",
       "Turkey                 7.0\n",
       "South Korea            9.0\n",
       "Lebanon               31.0\n",
       "Ukraine               45.0\n",
       "Lithuania             56.0\n",
       "Egypt                  1.0\n",
       "Ghana                  1.0\n",
       "Barbados              36.0\n",
       "Chad                   1.0\n",
       "Brunei                 1.0\n",
       "St. Kitts & Nevis     32.0\n",
       "Mauritania             NaN\n",
       "Finland               97.0\n",
       "Name: wine_servings, dtype: float64"
      ]
     },
     "execution_count": 191,
     "metadata": {},
     "output_type": "execute_result"
    }
   ],
   "source": [
    "alc_series.sample(frac=0.1,replace=True, random_state=100)"
   ]
  },
  {
   "cell_type": "code",
   "execution_count": 194,
   "id": "dee9d750-b6a3-4a81-9d40-3276fbdadc7f",
   "metadata": {},
   "outputs": [],
   "source": [
    "sample_alc = alc_series.sample(10, random_state=100)"
   ]
  },
  {
   "cell_type": "code",
   "execution_count": 195,
   "id": "3a359729-a88e-4b79-bdfa-6e15458fee68",
   "metadata": {},
   "outputs": [
    {
     "data": {
      "text/plain": [
       "country\n",
       "Mongolia         8.0\n",
       "Netherlands     19.0\n",
       "Bahamas         51.0\n",
       "Pakistan         NaN\n",
       "Norway         129.0\n",
       "Ireland        165.0\n",
       "Laos           123.0\n",
       "Spain          112.0\n",
       "Italy          237.0\n",
       "Belarus         42.0\n",
       "Name: wine_servings, dtype: float64"
      ]
     },
     "execution_count": 195,
     "metadata": {},
     "output_type": "execute_result"
    }
   ],
   "source": [
    "sample_alc"
   ]
  },
  {
   "cell_type": "code",
   "execution_count": 196,
   "id": "970459a8-e4d1-4c6c-bc68-30bd583d2ee0",
   "metadata": {},
   "outputs": [
    {
     "name": "stdout",
     "output_type": "stream",
     "text": [
      "8.0\n",
      "19.0\n",
      "51.0\n",
      "nan\n",
      "129.0\n",
      "165.0\n",
      "123.0\n",
      "112.0\n",
      "237.0\n",
      "42.0\n"
     ]
    }
   ],
   "source": [
    "for i in sample_alc:\n",
    "    print(i)"
   ]
  },
  {
   "cell_type": "code",
   "execution_count": 203,
   "id": "5a6b6e3b-3cd5-4a45-948a-528a9f8e5789",
   "metadata": {},
   "outputs": [
    {
     "name": "stdout",
     "output_type": "stream",
     "text": [
      "Mongolia\n",
      "Netherlands\n",
      "Bahamas\n",
      "Pakistan\n",
      "Norway\n",
      "Ireland\n",
      "Laos\n",
      "Spain\n",
      "Italy\n",
      "Belarus\n"
     ]
    }
   ],
   "source": [
    "for i in sample_alc.index:\n",
    "    print(i)"
   ]
  },
  {
   "cell_type": "code",
   "execution_count": 213,
   "id": "853dfaaa-a171-4eb5-95ac-cee5848f4621",
   "metadata": {},
   "outputs": [],
   "source": [
    "max_length = max([len(country) for country in sample_alc.index])"
   ]
  },
  {
   "cell_type": "code",
   "execution_count": 214,
   "id": "13cd58cb-8121-41f8-a4f4-f1be5f7d789f",
   "metadata": {},
   "outputs": [
    {
     "name": "stdout",
     "output_type": "stream",
     "text": [
      "Mongolia    : 8.0\n",
      "Netherlands : 19.0\n",
      "Bahamas     : 51.0\n",
      "Pakistan    : nan\n",
      "Norway      : 129.0\n",
      "Ireland     : 165.0\n",
      "Laos        : 123.0\n",
      "Spain       : 112.0\n",
      "Italy       : 237.0\n",
      "Belarus     : 42.0\n"
     ]
    }
   ],
   "source": [
    "\n",
    "for index, value in sample_alc.items():\n",
    "    print(f\"{index.ljust(max_length)} : {value}\")"
   ]
  },
  {
   "cell_type": "markdown",
   "id": "fad9fec0-aa58-4118-ac1e-9613d095dde8",
   "metadata": {},
   "source": [
    "## Filtering filter(), where(), mask()"
   ]
  },
  {
   "cell_type": "code",
   "execution_count": 221,
   "id": "0f47fa3b-25b8-4fe6-b766-fb3306d36523",
   "metadata": {},
   "outputs": [
    {
     "data": {
      "text/plain": [
       "country\n",
       "Cabo Verde                      16.0\n",
       "St. Vincent & the Grenadines    11.0\n",
       "Vanuatu                         11.0\n",
       "Venezuela                        3.0\n",
       "Vietnam                          1.0\n",
       "Name: wine_servings, dtype: float64"
      ]
     },
     "execution_count": 221,
     "metadata": {},
     "output_type": "execute_result"
    }
   ],
   "source": [
    "alc_series.filter(like=\"V\")"
   ]
  },
  {
   "cell_type": "code",
   "execution_count": 219,
   "id": "3c52f352-e385-422a-a251-c5f49b8a8449",
   "metadata": {},
   "outputs": [
    {
     "data": {
      "text/plain": [
       "country\n",
       "Vanuatu      11.0\n",
       "Venezuela     3.0\n",
       "Vietnam       1.0\n",
       "Name: wine_servings, dtype: float64"
      ]
     },
     "execution_count": 219,
     "metadata": {},
     "output_type": "execute_result"
    }
   ],
   "source": [
    "alc_series.filter(regex=\"^V\")"
   ]
  },
  {
   "cell_type": "code",
   "execution_count": 222,
   "id": "4d80eee4-6146-48d7-8cc2-5cf5ef5b9c88",
   "metadata": {},
   "outputs": [],
   "source": [
    "# where() and mask() are identical"
   ]
  },
  {
   "cell_type": "markdown",
   "id": "af044953-e637-4061-b801-61df770801d3",
   "metadata": {},
   "source": [
    "## Transforming with update(), apply(), and map()"
   ]
  },
  {
   "cell_type": "code",
   "execution_count": 223,
   "id": "4d2b1dc7-b3f2-4a82-867e-83b08ccbf2f7",
   "metadata": {},
   "outputs": [
    {
     "data": {
      "text/plain": [
       "country\n",
       "Afghanistan      NaN\n",
       "Albania         54.0\n",
       "Algeria         14.0\n",
       "Andorra        312.0\n",
       "Angola          45.0\n",
       "Name: wine_servings, dtype: float64"
      ]
     },
     "execution_count": 223,
     "metadata": {},
     "output_type": "execute_result"
    }
   ],
   "source": [
    "alc_series.head()"
   ]
  },
  {
   "cell_type": "code",
   "execution_count": 225,
   "id": "15f6544d-e4de-4abd-94a9-ff29bafd6562",
   "metadata": {},
   "outputs": [],
   "source": [
    "# assignment\n",
    "alc_series[\"Algeria\"] = 19"
   ]
  },
  {
   "cell_type": "code",
   "execution_count": 227,
   "id": "7a968c76-3950-4c91-be7d-8eb2202a48d0",
   "metadata": {},
   "outputs": [
    {
     "data": {
      "text/plain": [
       "country\n",
       "Afghanistan      NaN\n",
       "Albania         54.0\n",
       "Algeria         19.0\n",
       "Andorra        312.0\n",
       "Angola          45.0\n",
       "Name: wine_servings, dtype: float64"
      ]
     },
     "execution_count": 227,
     "metadata": {},
     "output_type": "execute_result"
    }
   ],
   "source": [
    "alc_series.head()"
   ]
  },
  {
   "cell_type": "code",
   "execution_count": 228,
   "id": "abf07129-f4af-4e71-abc4-e8cecdbee201",
   "metadata": {},
   "outputs": [],
   "source": [
    "# update() method\n",
    "alc_series.update(pd.Series(data=[62, 20], index=[\"Albania\", \"Algeria\"]))"
   ]
  },
  {
   "cell_type": "code",
   "execution_count": 229,
   "id": "db7a74df-07c3-4430-8daa-81c84711e11b",
   "metadata": {},
   "outputs": [
    {
     "data": {
      "text/plain": [
       "country\n",
       "Afghanistan      NaN\n",
       "Albania         62.0\n",
       "Algeria         20.0\n",
       "Andorra        312.0\n",
       "Angola          45.0\n",
       "Name: wine_servings, dtype: float64"
      ]
     },
     "execution_count": 229,
     "metadata": {},
     "output_type": "execute_result"
    }
   ],
   "source": [
    "alc_series.head()"
   ]
  },
  {
   "cell_type": "code",
   "execution_count": 230,
   "id": "df50c607-099c-44f6-ae16-0db37c2eba47",
   "metadata": {},
   "outputs": [],
   "source": [
    "# Global transformation --\n",
    "# apply() to whole series"
   ]
  },
  {
   "cell_type": "code",
   "execution_count": 233,
   "id": "4cc596dd-d276-4420-9662-d47c623b4b77",
   "metadata": {},
   "outputs": [
    {
     "data": {
      "text/plain": [
       "country\n",
       "Afghanistan        NaN\n",
       "Albania         3844.0\n",
       "Algeria          400.0\n",
       "Andorra        97344.0\n",
       "Angola          2025.0\n",
       "Name: wine_servings, dtype: float64"
      ]
     },
     "execution_count": 233,
     "metadata": {},
     "output_type": "execute_result"
    }
   ],
   "source": [
    "alc_series.apply(lambda x: x**2).head()"
   ]
  },
  {
   "cell_type": "code",
   "execution_count": 236,
   "id": "db815914-3436-4baa-b58a-801cf239c628",
   "metadata": {},
   "outputs": [
    {
     "data": {
      "text/plain": [
       "country\n",
       "Afghanistan        NaN\n",
       "Albania         3844.0\n",
       "Algeria          400.0\n",
       "Andorra        97344.0\n",
       "Angola          2025.0\n",
       "Name: wine_servings, dtype: float64"
      ]
     },
     "execution_count": 236,
     "metadata": {},
     "output_type": "execute_result"
    }
   ],
   "source": [
    "alc_series.apply(np.square).head()"
   ]
  },
  {
   "cell_type": "code",
   "execution_count": 237,
   "id": "912f0fbb-bfc8-4082-9f8d-937127bbd559",
   "metadata": {},
   "outputs": [
    {
     "data": {
      "text/plain": [
       "country\n",
       "Afghanistan      NaN\n",
       "Albania         72.0\n",
       "Algeria         30.0\n",
       "Andorra        322.0\n",
       "Angola          55.0\n",
       "               ...  \n",
       "Venezuela       13.0\n",
       "Vietnam         11.0\n",
       "Yemen            NaN\n",
       "Zambia          14.0\n",
       "Zimbabwe        14.0\n",
       "Name: wine_servings, Length: 193, dtype: float64"
      ]
     },
     "execution_count": 237,
     "metadata": {},
     "output_type": "execute_result"
    }
   ],
   "source": [
    "alc_series.apply(lambda x: x+10)"
   ]
  },
  {
   "cell_type": "code",
   "execution_count": 238,
   "id": "27b4b9e8-87ca-496b-9472-579df51fd1a4",
   "metadata": {},
   "outputs": [],
   "source": [
    "def multiply_by_self(x):\n",
    "    return x*x"
   ]
  },
  {
   "cell_type": "code",
   "execution_count": 239,
   "id": "7a18e785-1fef-4be1-9664-b7bcc22d1f5b",
   "metadata": {},
   "outputs": [
    {
     "data": {
      "text/plain": [
       "country\n",
       "Afghanistan        NaN\n",
       "Albania         3844.0\n",
       "Algeria          400.0\n",
       "Andorra        97344.0\n",
       "Angola          2025.0\n",
       "                ...   \n",
       "Venezuela          9.0\n",
       "Vietnam            1.0\n",
       "Yemen              NaN\n",
       "Zambia            16.0\n",
       "Zimbabwe          16.0\n",
       "Name: wine_servings, Length: 193, dtype: float64"
      ]
     },
     "execution_count": 239,
     "metadata": {},
     "output_type": "execute_result"
    }
   ],
   "source": [
    "alc_series.apply(multiply_by_self)"
   ]
  },
  {
   "cell_type": "code",
   "execution_count": 240,
   "id": "430655f9-90c1-4168-9ac0-420593996226",
   "metadata": {},
   "outputs": [],
   "source": [
    "def multiply_by_self(x, min_servings):\n",
    "    if x < min_servings:\n",
    "        return x**2\n",
    "    return x"
   ]
  },
  {
   "cell_type": "code",
   "execution_count": 241,
   "id": "ba08b53f-41c4-4e01-bd8c-ae7b67583a03",
   "metadata": {},
   "outputs": [
    {
     "data": {
      "text/plain": [
       "country\n",
       "Afghanistan       NaN\n",
       "Albania        3844.0\n",
       "Algeria         400.0\n",
       "Andorra         312.0\n",
       "Angola         2025.0\n",
       "                ...  \n",
       "Venezuela         9.0\n",
       "Vietnam           1.0\n",
       "Yemen             NaN\n",
       "Zambia           16.0\n",
       "Zimbabwe         16.0\n",
       "Name: wine_servings, Length: 193, dtype: float64"
      ]
     },
     "execution_count": 241,
     "metadata": {},
     "output_type": "execute_result"
    }
   ],
   "source": [
    "alc_series.apply(multiply_by_self, args=(200,))"
   ]
  },
  {
   "cell_type": "code",
   "execution_count": 243,
   "id": "07c50ebc-341a-436e-ac48-65354c2514a9",
   "metadata": {},
   "outputs": [
    {
     "data": {
      "text/plain": [
       "country\n",
       "Afghanistan       NaN\n",
       "Albania        3844.0\n",
       "Algeria         400.0\n",
       "Andorra         312.0\n",
       "Angola         2025.0\n",
       "                ...  \n",
       "Venezuela         9.0\n",
       "Vietnam           1.0\n",
       "Yemen             NaN\n",
       "Zambia           16.0\n",
       "Zimbabwe         16.0\n",
       "Name: wine_servings, Length: 193, dtype: float64"
      ]
     },
     "execution_count": 243,
     "metadata": {},
     "output_type": "execute_result"
    }
   ],
   "source": [
    "alc_series.apply(multiply_by_self, min_servings=200)"
   ]
  },
  {
   "cell_type": "code",
   "execution_count": 244,
   "id": "b03db266-9f80-489e-abef-841a0cf1f5a8",
   "metadata": {},
   "outputs": [],
   "source": [
    "# map() method   ::: for substitution"
   ]
  },
  {
   "cell_type": "code",
   "execution_count": 256,
   "id": "92b333b3-76bc-4602-beea-8188c98651bc",
   "metadata": {},
   "outputs": [
    {
     "data": {
      "text/plain": [
       "country\n",
       "Afghanistan      NaN\n",
       "Albania         89.0\n",
       "Algeria         25.0\n",
       "Andorra        245.0\n",
       "Angola         217.0\n",
       "               ...  \n",
       "Venezuela      333.0\n",
       "Vietnam        111.0\n",
       "Yemen            6.0\n",
       "Zambia          32.0\n",
       "Zimbabwe        64.0\n",
       "Name: beer_servings, Length: 193, dtype: float64"
      ]
     },
     "execution_count": 256,
     "metadata": {},
     "output_type": "execute_result"
    }
   ],
   "source": [
    "beer_series = pd.read_csv(\"https://andybek.com/pandas-drinks\",usecols=[\"beer_servings\", \"country\"], index_col=[\"country\"]).squeeze()\n",
    "beer_series"
   ]
  },
  {
   "cell_type": "code",
   "execution_count": 258,
   "id": "541c4c4e-ea23-4c49-88d6-996f51802c30",
   "metadata": {},
   "outputs": [
    {
     "data": {
      "text/plain": [
       "count    178.000000\n",
       "mean     102.870787\n",
       "std      100.645713\n",
       "min        1.000000\n",
       "25%       21.000000\n",
       "50%       60.000000\n",
       "75%      172.500000\n",
       "max      376.000000\n",
       "Name: beer_servings, dtype: float64"
      ]
     },
     "execution_count": 258,
     "metadata": {},
     "output_type": "execute_result"
    }
   ],
   "source": [
    "beer_series.describe()"
   ]
  },
  {
   "cell_type": "code",
   "execution_count": 260,
   "id": "0f77e1d5-e926-41aa-938f-be3454948519",
   "metadata": {},
   "outputs": [
    {
     "data": {
      "text/plain": [
       "<Axes: >"
      ]
     },
     "execution_count": 260,
     "metadata": {},
     "output_type": "execute_result"
    },
    {
     "data": {
      "image/png": "[encoded data removed]",
      "text/plain": [
       "<Figure size 640x480 with 1 Axes>"
      ]
     },
     "metadata": {},
     "output_type": "display_data"
    }
   ],
   "source": [
    "beer_series.hist()"
   ]
  },
  {
   "cell_type": "code",
   "execution_count": 261,
   "id": "43110b33-7e66-4599-9e17-add3a08d786e",
   "metadata": {},
   "outputs": [
    {
     "data": {
      "text/plain": [
       "country\n",
       "Afghanistan            NaN\n",
       "Albania               89.0\n",
       "Algeria               25.0\n",
       "Andorra              245.0\n",
       "Angola               217.0\n",
       "Antigua & Barbuda     12.0\n",
       "Argentina            193.0\n",
       "Armenia               21.0\n",
       "Australia            261.0\n",
       "Austria              279.0\n",
       "Name: beer_servings, dtype: float64"
      ]
     },
     "execution_count": 261,
     "metadata": {},
     "output_type": "execute_result"
    }
   ],
   "source": [
    "beer_series[:10]"
   ]
  },
  {
   "cell_type": "code",
   "execution_count": 265,
   "id": "45728c22-c15f-4900-a8f1-9e74220bc252",
   "metadata": {},
   "outputs": [
    {
     "data": {
      "text/plain": [
       "beer_servings\n",
       "low     5\n",
       "high    5\n",
       "Name: count, dtype: int64"
      ]
     },
     "execution_count": 265,
     "metadata": {},
     "output_type": "execute_result"
    }
   ],
   "source": [
    "(beer_series.dropna()[:10] - beer_series.mean()).apply(lambda x: \"low\" if x <0 else \"high\").value_counts()"
   ]
  },
  {
   "cell_type": "code",
   "execution_count": 266,
   "id": "1aa57bd4-2e1c-47b2-8266-caab80bebd4e",
   "metadata": {},
   "outputs": [
    {
     "data": {
      "text/plain": [
       "beer_servings\n",
       "low     112\n",
       "high     66\n",
       "Name: count, dtype: int64"
      ]
     },
     "execution_count": 266,
     "metadata": {},
     "output_type": "execute_result"
    }
   ],
   "source": [
    "(beer_series.dropna() - beer_series.mean()).apply(lambda x: \"low\" if x <0 else \"high\").value_counts()"
   ]
  },
  {
   "cell_type": "code",
   "execution_count": 267,
   "id": "e3f52660-91e6-400a-adcf-830e666b3b75",
   "metadata": {},
   "outputs": [],
   "source": [
    "# z score no. of stddev an observation deviates from sample mean"
   ]
  },
  {
   "cell_type": "code",
   "execution_count": 268,
   "id": "e6310c8f-8f71-430b-bf3b-18eaf886a2f1",
   "metadata": {},
   "outputs": [],
   "source": [
    "z_scores = (beer_series.dropna() - beer_series.mean())/beer_series.std()"
   ]
  },
  {
   "cell_type": "code",
   "execution_count": 270,
   "id": "f7c8a5ed-3706-427f-8c8e-b8425fe9cf00",
   "metadata": {},
   "outputs": [
    {
     "data": {
      "text/plain": [
       "country\n",
       "Albania             -0.137818\n",
       "Algeria             -0.773712\n",
       "Andorra              1.412174\n",
       "Angola               1.133970\n",
       "Antigua & Barbuda   -0.902878\n",
       "Name: beer_servings, dtype: float64"
      ]
     },
     "execution_count": 270,
     "metadata": {},
     "output_type": "execute_result"
    }
   ],
   "source": [
    "z_scores.head()"
   ]
  },
  {
   "cell_type": "code",
   "execution_count": 273,
   "id": "40021e34-d07f-450b-8cf2-8e501822f691",
   "metadata": {},
   "outputs": [
    {
     "data": {
      "text/plain": [
       "2.7137689844109123"
      ]
     },
     "execution_count": 273,
     "metadata": {},
     "output_type": "execute_result"
    }
   ],
   "source": [
    "max(z_scores.abs())"
   ]
  },
  {
   "cell_type": "code",
   "execution_count": 274,
   "id": "fb424def-cb5b-4c31-b7a8-3d237fe25f3a",
   "metadata": {},
   "outputs": [
    {
     "data": {
      "text/plain": [
       "'Namibia'"
      ]
     },
     "execution_count": 274,
     "metadata": {},
     "output_type": "execute_result"
    }
   ],
   "source": [
    "z_scores.abs().idxmax()"
   ]
  },
  {
   "cell_type": "code",
   "execution_count": 275,
   "id": "863ce286-6b13-41ed-be71-e99a878a7bc6",
   "metadata": {},
   "outputs": [
    {
     "data": {
      "text/plain": [
       "376.0"
      ]
     },
     "execution_count": 275,
     "metadata": {},
     "output_type": "execute_result"
    }
   ],
   "source": [
    "beer_series.loc[\"Namibia\"]"
   ]
  },
  {
   "cell_type": "code",
   "execution_count": null,
   "id": "7ae09ae0-00ba-4589-95a6-2525eeeb84ad",
   "metadata": {},
   "outputs": [],
   "source": []
  }
 ],
 "metadata": {
  "kernelspec": {
   "display_name": "Python 3 (ipykernel)",
   "language": "python",
   "name": "python3"
  },
  "language_info": {
   "codemirror_mode": {
    "name": "ipython",
    "version": 3
   },
   "file_extension": ".py",
   "mimetype": "text/x-python",
   "name": "python",
   "nbconvert_exporter": "python",
   "pygments_lexer": "ipython3",
   "version": "3.11.5"
  }
 },
 "nbformat": 4,
 "nbformat_minor": 5
}
