{
 "cells": [
  {
   "cell_type": "code",
   "execution_count": 1,
   "id": "8165bb70-dbe6-4b30-b205-1c4d54a4d8e6",
   "metadata": {},
   "outputs": [],
   "source": [
    "import pandas as pd"
   ]
  },
  {
   "cell_type": "code",
   "execution_count": 2,
   "id": "836e01d0-272a-4db5-8f3d-d2e337749f5d",
   "metadata": {},
   "outputs": [],
   "source": [
    "book_list = ['Fooled by Randomness', 'Sapiens', 'Lenin on the Train']"
   ]
  },
  {
   "cell_type": "code",
   "execution_count": 3,
   "id": "928bb7e2-531f-4fc4-8e02-d1fb52b8eb9b",
   "metadata": {},
   "outputs": [],
   "source": [
    "type = ['funny', 'serious and amusing', 'kinda interesting']"
   ]
  },
  {
   "cell_type": "code",
   "execution_count": 4,
   "id": "83c5d99b-372c-45e1-a91b-3ff9f8c95b27",
   "metadata": {},
   "outputs": [
    {
     "data": {
      "text/plain": [
       "funny                  Fooled by Randomness\n",
       "serious and amusing                 Sapiens\n",
       "kinda interesting        Lenin on the Train\n",
       "Name: books, dtype: object"
      ]
     },
     "execution_count": 4,
     "metadata": {},
     "output_type": "execute_result"
    }
   ],
   "source": [
    "book_series = pd.Series(data=book_list, index=type, name=\"books\")\n",
    "book_series"
   ]
  },
  {
   "cell_type": "code",
   "execution_count": 5,
   "id": "c6a4cc7c-dac0-4b84-bdc9-9b337ac0dc6f",
   "metadata": {},
   "outputs": [],
   "source": [
    "import numpy as np"
   ]
  },
  {
   "cell_type": "code",
   "execution_count": 6,
   "id": "6e9bd152-f630-4b0f-9b30-f7fa86902a93",
   "metadata": {},
   "outputs": [
    {
     "data": {
      "text/plain": [
       "[10, 9, 8, 7, 6, 5, 4, 3, 2, 1, 0, -1, -2, -3, -4, -5, -6, -7, -8, -9, -10]"
      ]
     },
     "execution_count": 6,
     "metadata": {},
     "output_type": "execute_result"
    }
   ],
   "source": [
    "list(pd.RangeIndex(10,-11,-1))"
   ]
  },
  {
   "cell_type": "code",
   "execution_count": 7,
   "id": "c878eb10-7fa2-43f3-a6b5-761bf98e29f0",
   "metadata": {},
   "outputs": [
    {
     "data": {
      "text/plain": [
       "3"
      ]
     },
     "execution_count": 7,
     "metadata": {},
     "output_type": "execute_result"
    }
   ],
   "source": [
    "book_series.size"
   ]
  },
  {
   "cell_type": "code",
   "execution_count": 8,
   "id": "fba75bd1-790a-4c85-84fb-3ed6adb57273",
   "metadata": {},
   "outputs": [
    {
     "data": {
      "text/plain": [
       "dtype('O')"
      ]
     },
     "execution_count": 8,
     "metadata": {},
     "output_type": "execute_result"
    }
   ],
   "source": [
    "book_series.dtype"
   ]
  },
  {
   "cell_type": "code",
   "execution_count": 9,
   "id": "628d045f-5734-41a5-9d44-90d3088d7539",
   "metadata": {},
   "outputs": [
    {
     "data": {
      "text/plain": [
       "(3,)"
      ]
     },
     "execution_count": 9,
     "metadata": {},
     "output_type": "execute_result"
    }
   ],
   "source": [
    "book_series.shape"
   ]
  },
  {
   "cell_type": "code",
   "execution_count": 10,
   "id": "eb42c72c-3c63-409f-b477-62f4bfd4c9cb",
   "metadata": {},
   "outputs": [
    {
     "data": {
      "text/plain": [
       "'books'"
      ]
     },
     "execution_count": 10,
     "metadata": {},
     "output_type": "execute_result"
    }
   ],
   "source": [
    "book_series.name"
   ]
  },
  {
   "cell_type": "code",
   "execution_count": 11,
   "id": "4cc86840-5d59-4718-afb8-5e6d8913fadc",
   "metadata": {},
   "outputs": [
    {
     "data": {
      "text/plain": [
       "Index(['funny', 'serious and amusing', 'kinda interesting'], dtype='object')"
      ]
     },
     "execution_count": 11,
     "metadata": {},
     "output_type": "execute_result"
    }
   ],
   "source": [
    "book_series.index"
   ]
  },
  {
   "cell_type": "code",
   "execution_count": 12,
   "id": "e40f8937-6f50-4a3d-8773-0bfb068ecdea",
   "metadata": {},
   "outputs": [
    {
     "data": {
      "text/plain": [
       "array(['Fooled by Randomness', 'Sapiens', 'Lenin on the Train'],\n",
       "      dtype=object)"
      ]
     },
     "execution_count": 12,
     "metadata": {},
     "output_type": "execute_result"
    }
   ],
   "source": [
    "book_series.values"
   ]
  },
  {
   "cell_type": "code",
   "execution_count": 13,
   "id": "4c9fa903-0297-4625-9287-dc5d7b8107d0",
   "metadata": {},
   "outputs": [],
   "source": [
    "actor_names = ['Tom Cruise', 'Meryl Streep', 'Tom Hardy', 'Amanda Seyfried']"
   ]
  },
  {
   "cell_type": "code",
   "execution_count": 14,
   "id": "452a13b9-8e8d-43ba-9550-aad412c6060f",
   "metadata": {},
   "outputs": [],
   "source": [
    "actor_ages = [54.3, 62.1, 36.2, 33.4]"
   ]
  },
  {
   "cell_type": "code",
   "execution_count": 15,
   "id": "1921b3fb-b3e6-4ba1-9c10-fd7f9953b35c",
   "metadata": {},
   "outputs": [
    {
     "data": {
      "text/plain": [
       "Tom Cruise         54.3\n",
       "Meryl Streep       62.1\n",
       "Tom Hardy          36.2\n",
       "Amanda Seyfried    33.4\n",
       "Name: My Favorite Actors, dtype: float64"
      ]
     },
     "execution_count": 15,
     "metadata": {},
     "output_type": "execute_result"
    }
   ],
   "source": [
    "pd.Series(data=actor_ages, index=actor_names, name=\"My Favorite Actors\")"
   ]
  },
  {
   "cell_type": "code",
   "execution_count": 16,
   "id": "7276a407-8d14-4971-82c5-731e8fc5f8dc",
   "metadata": {},
   "outputs": [
    {
     "name": "stdout",
     "output_type": "stream",
     "text": [
      "{'Tom Cruise': 54.3, 'Meryl Streep': 62.1, 'Tom Hardy': 36.2, 'Amanda Seyfried': 33.4}\n"
     ]
    }
   ],
   "source": [
    "dict_actors = {}\n",
    "for i in range(len(actor_names)):\n",
    "    dict_actors[actor_names[i]] = actor_ages[i]\n",
    "print(dict_actors)"
   ]
  },
  {
   "cell_type": "code",
   "execution_count": 17,
   "id": "888277ea-8799-40b1-900b-80c06b2dfb0e",
   "metadata": {},
   "outputs": [
    {
     "data": {
      "text/plain": [
       "Tom Cruise         54.3\n",
       "Meryl Streep       62.1\n",
       "Tom Hardy          36.2\n",
       "Amanda Seyfried    33.4\n",
       "dtype: float64"
      ]
     },
     "execution_count": 17,
     "metadata": {},
     "output_type": "execute_result"
    }
   ],
   "source": [
    "pd.Series(dict_actors)"
   ]
  },
  {
   "cell_type": "code",
   "execution_count": 18,
   "id": "789709ce-1f9c-4065-8798-6049d5766406",
   "metadata": {},
   "outputs": [
    {
     "data": {
      "text/plain": [
       "[('Tom Cruise', 54.3),\n",
       " ('Meryl Streep', 62.1),\n",
       " ('Tom Hardy', 36.2),\n",
       " ('Amanda Seyfried', 33.4)]"
      ]
     },
     "execution_count": 18,
     "metadata": {},
     "output_type": "execute_result"
    }
   ],
   "source": [
    "list(zip(actor_names, actor_ages))"
   ]
  },
  {
   "cell_type": "code",
   "execution_count": 19,
   "id": "a73a5c43-b0cc-4e7b-9944-7117b381fb5f",
   "metadata": {},
   "outputs": [
    {
     "data": {
      "text/plain": [
       "{'Tom Cruise': 54.3,\n",
       " 'Meryl Streep': 62.1,\n",
       " 'Tom Hardy': 36.2,\n",
       " 'Amanda Seyfried': 33.4}"
      ]
     },
     "execution_count": 19,
     "metadata": {},
     "output_type": "execute_result"
    }
   ],
   "source": [
    "{name: age for name, age in list(zip(actor_names, actor_ages))}"
   ]
  },
  {
   "cell_type": "code",
   "execution_count": 20,
   "id": "b0616082-3432-4b32-bd0e-d5eb182de2b9",
   "metadata": {},
   "outputs": [
    {
     "data": {
      "text/plain": [
       "{'Tom Cruise': 54.3,\n",
       " 'Meryl Streep': 62.1,\n",
       " 'Tom Hardy': 36.2,\n",
       " 'Amanda Seyfried': 33.4}"
      ]
     },
     "execution_count": 20,
     "metadata": {},
     "output_type": "execute_result"
    }
   ],
   "source": [
    "dict(zip(actor_names, actor_ages))"
   ]
  },
  {
   "cell_type": "code",
   "execution_count": 21,
   "id": "1541399b-81d0-4eda-a059-a6425a113a0a",
   "metadata": {},
   "outputs": [],
   "source": [
    "actors_series = pd.Series(dict(zip(actor_names, actor_ages)))"
   ]
  },
  {
   "cell_type": "code",
   "execution_count": 22,
   "id": "30968b45-5221-45e6-9269-0d2b088fc5e9",
   "metadata": {},
   "outputs": [
    {
     "data": {
      "text/plain": [
       "Tom Cruise         54.3\n",
       "Meryl Streep       62.1\n",
       "Tom Hardy          36.2\n",
       "Amanda Seyfried    33.4\n",
       "dtype: float64"
      ]
     },
     "execution_count": 22,
     "metadata": {},
     "output_type": "execute_result"
    }
   ],
   "source": [
    "actors_series"
   ]
  },
  {
   "cell_type": "code",
   "execution_count": null,
   "id": "07ab954e-178e-4301-b447-f7b5bdbffd4e",
   "metadata": {},
   "outputs": [],
   "source": []
  },
  {
   "cell_type": "code",
   "execution_count": 28,
   "id": "ecaa2bd7-78dd-4f62-aade-0f373a260da1",
   "metadata": {},
   "outputs": [
    {
     "data": {
      "text/plain": [
       "Tom Cruise      54.3\n",
       "Meryl Streep    62.1\n",
       "dtype: float64"
      ]
     },
     "execution_count": 28,
     "metadata": {},
     "output_type": "execute_result"
    }
   ],
   "source": [
    "actors_series.iloc[0:2]"
   ]
  },
  {
   "cell_type": "code",
   "execution_count": 29,
   "id": "7811db67-19c6-4d69-843b-f35e4d14d2cb",
   "metadata": {},
   "outputs": [
    {
     "data": {
      "text/plain": [
       "Tom Cruise         54.3\n",
       "Meryl Streep       62.1\n",
       "Tom Hardy          36.2\n",
       "Amanda Seyfried    33.4\n",
       "dtype: float64"
      ]
     },
     "execution_count": 29,
     "metadata": {},
     "output_type": "execute_result"
    }
   ],
   "source": [
    "actors_series.loc[\"Tom Cruise\": \"Amanda Seyfried\"]"
   ]
  },
  {
   "cell_type": "code",
   "execution_count": 31,
   "id": "92b18dfc-3542-4b82-8e69-c7f014794a2e",
   "metadata": {},
   "outputs": [
    {
     "data": {
      "text/plain": [
       "['Tom Cruise', 'Meryl Streep', 'Tom Hardy', 'Amanda Seyfried']"
      ]
     },
     "execution_count": 31,
     "metadata": {},
     "output_type": "execute_result"
    }
   ],
   "source": [
    "actor_names"
   ]
  },
  {
   "cell_type": "code",
   "execution_count": null,
   "id": "5f749bf2-7654-40ed-b8da-afb27e2042b1",
   "metadata": {},
   "outputs": [],
   "source": []
  },
  {
   "cell_type": "markdown",
   "id": "d20388f1-0729-4001-b158-9ce2a595fdb0",
   "metadata": {},
   "source": [
    "## add_prefix() and add_suffix()"
   ]
  },
  {
   "cell_type": "code",
   "execution_count": 34,
   "id": "e8b4f780-dd00-42c0-bae3-67a0bc40ceb2",
   "metadata": {},
   "outputs": [
    {
     "data": {
      "text/plain": [
       "Tom Cruise         54.3\n",
       "Meryl Streep       62.1\n",
       "Tom Hardy          36.2\n",
       "Amanda Seyfried    33.4\n",
       "dtype: float64"
      ]
     },
     "execution_count": 34,
     "metadata": {},
     "output_type": "execute_result"
    }
   ],
   "source": [
    "actors_series"
   ]
  },
  {
   "cell_type": "code",
   "execution_count": 35,
   "id": "2473f77d-58a6-4089-8020-65e272862c0b",
   "metadata": {},
   "outputs": [
    {
     "data": {
      "text/plain": [
       "54.3"
      ]
     },
     "execution_count": 35,
     "metadata": {},
     "output_type": "execute_result"
    }
   ],
   "source": [
    "actors_series.loc[lambda x: \"Tom Cruise\"]"
   ]
  },
  {
   "cell_type": "code",
   "execution_count": 37,
   "id": "df6cf2e9-8cf5-49dd-8b05-ae5feb52e942",
   "metadata": {},
   "outputs": [],
   "source": [
    "def even(x):\n",
    "   return [True if i%2 == 0 else False for i in range(x.size)]"
   ]
  },
  {
   "cell_type": "code",
   "execution_count": 39,
   "id": "2e23ce00-54e9-4bc9-b270-7c1636f39678",
   "metadata": {},
   "outputs": [
    {
     "data": {
      "text/plain": [
       "Tom Cruise    54.3\n",
       "Tom Hardy     36.2\n",
       "dtype: float64"
      ]
     },
     "execution_count": 39,
     "metadata": {},
     "output_type": "execute_result"
    }
   ],
   "source": [
    "actors_series.loc[even]"
   ]
  },
  {
   "cell_type": "code",
   "execution_count": null,
   "id": "4351ed97-85e6-472a-a4c8-c3d74febeba0",
   "metadata": {},
   "outputs": [],
   "source": []
  },
  {
   "cell_type": "code",
   "execution_count": 51,
   "id": "7ace6762-848d-466e-b5cf-2b599feb8bd9",
   "metadata": {},
   "outputs": [],
   "source": [
    "squares = pd.Series([x**2 for x in range(100)])"
   ]
  },
  {
   "cell_type": "code",
   "execution_count": 53,
   "id": "083c2092-9fdd-4cc4-8401-cc9589578366",
   "metadata": {},
   "outputs": [
    {
     "data": {
      "text/plain": [
       "97    9409\n",
       "98    9604\n",
       "99    9801\n",
       "dtype: int64"
      ]
     },
     "execution_count": 53,
     "metadata": {},
     "output_type": "execute_result"
    }
   ],
   "source": [
    "squares.loc[97:]"
   ]
  },
  {
   "cell_type": "code",
   "execution_count": 54,
   "id": "f6d6b9ba-c5f3-4a4e-925a-fe6f9d5afe04",
   "metadata": {},
   "outputs": [
    {
     "data": {
      "text/plain": [
       "97    9409\n",
       "98    9604\n",
       "99    9801\n",
       "dtype: int64"
      ]
     },
     "execution_count": 54,
     "metadata": {},
     "output_type": "execute_result"
    }
   ],
   "source": [
    "squares.iloc[-3:]"
   ]
  },
  {
   "cell_type": "code",
   "execution_count": 55,
   "id": "f75076e4-5f7a-4926-91e4-007a4969c7be",
   "metadata": {},
   "outputs": [
    {
     "data": {
      "text/plain": [
       "97    9409\n",
       "98    9604\n",
       "99    9801\n",
       "dtype: int64"
      ]
     },
     "execution_count": 55,
     "metadata": {},
     "output_type": "execute_result"
    }
   ],
   "source": [
    "squares[-3:]"
   ]
  },
  {
   "cell_type": "code",
   "execution_count": 57,
   "id": "093e9c8e-cb19-4b84-8107-53f901908d0c",
   "metadata": {},
   "outputs": [
    {
     "data": {
      "text/plain": [
       "97    9409\n",
       "98    9604\n",
       "99    9801\n",
       "dtype: int64"
      ]
     },
     "execution_count": 57,
     "metadata": {},
     "output_type": "execute_result"
    }
   ],
   "source": [
    "squares.tail(3)"
   ]
  },
  {
   "cell_type": "code",
   "execution_count": 58,
   "id": "fb51cf82-87f0-4087-8abd-730afa070048",
   "metadata": {},
   "outputs": [
    {
     "data": {
      "text/plain": [
       "True"
      ]
     },
     "execution_count": 58,
     "metadata": {},
     "output_type": "execute_result"
    }
   ],
   "source": [
    "squares[-3:].equals(squares.tail(3))"
   ]
  },
  {
   "cell_type": "code",
   "execution_count": null,
   "id": "01440046-8be7-45ba-97ce-c758066c84b5",
   "metadata": {},
   "outputs": [],
   "source": []
  }
 ],
 "metadata": {
  "kernelspec": {
   "display_name": "Python 3 (ipykernel)",
   "language": "python",
   "name": "python3"
  },
  "language_info": {
   "codemirror_mode": {
    "name": "ipython",
    "version": 3
   },
   "file_extension": ".py",
   "mimetype": "text/x-python",
   "name": "python",
   "nbconvert_exporter": "python",
   "pygments_lexer": "ipython3",
   "version": "3.11.5"
  }
 },
 "nbformat": 4,
 "nbformat_minor": 5
}
